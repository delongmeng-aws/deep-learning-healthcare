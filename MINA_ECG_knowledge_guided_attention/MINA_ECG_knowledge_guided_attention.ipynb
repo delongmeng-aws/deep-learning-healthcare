{
 "cells": [
  {
   "cell_type": "markdown",
   "metadata": {},
   "source": [
    "#  ECG Data Classification with MINA\n",
    "\n",
    "## Overview\n",
    "\n",
    "\n",
    "In this project, we will implement an advanced CNN+RNN model with attention mechanism to classify ECG recordings. Specifically, we face a binary classification problem, and the goal is to distinguish atrial fibrillation (AF), an alternative rhythm, from the normal sinus rhythm. "
   ]
  },
  {
   "cell_type": "code",
   "execution_count": 156,
   "metadata": {},
   "outputs": [],
   "source": [
    "import os\n",
    "import random\n",
    "import numpy as np\n",
    "import pandas as pd\n",
    "import torch\n",
    "import torch.nn as nn\n",
    "import torch.nn.functional as F\n",
    "\n",
    "# set seed\n",
    "seed = 24\n",
    "random.seed(seed)\n",
    "np.random.seed(seed)\n",
    "torch.manual_seed(seed)\n",
    "os.environ[\"PYTHONHASHSEED\"] = str(seed)\n",
    "\n",
    "# define data path\n",
    "DATA_PATH = \"lib/data/\""
   ]
  },
  {
   "cell_type": "markdown",
   "metadata": {},
   "source": [
    "## 1 ECG Data \n",
    "\n",
    "We will be using a fraction of the data in the public [Physionet 2017 Challenge](https://physionet.org/content/challenge-2017/1.0.0/). More details can be found in the link.\n",
    "\n",
    "ECG recordings were sampled at 300Hz, and for the purpose of this task, the data we use is separated into 10-second-segments. "
   ]
  },
  {
   "cell_type": "markdown",
   "metadata": {},
   "source": [
    "### 1.1 Preprocessing\n",
    "\n",
    "Because the preprocessing of the data requires a tremendous amount of memory and time, here the data has already been preprocessed. \n",
    "\n",
    "Specifically, for each raw data (an ECG recording sampled at 300Hz), we did the following:\n",
    "1. split the dataset into training/validation/test sets with a ratio of [placeholder]\n",
    "2. for each recording, we normalize the data to have a mean of 0 and a standard deviation of 1\n",
    "3. slide and cut the recording into overlapping 10-second-segments (stride = $\\frac{5}{3}$ second for class 0, and $\\frac{5}{30}$ second for class 1 to oversample).\n",
    "4. use FIR bandpass filter to transform the data from 1 channel to 4 channels.\n",
    "\n",
    "The last step of the data preprocessing is computing the knowledge. As we can see below, the AF signals exhibit different patterns at different levels. We computed knowledge features at different levels to guide the attention mechanism. More details are in Section 2.\n",
    "![Beat/Rhythm/Frequency](img/Data.png)"
   ]
  },
  {
   "cell_type": "markdown",
   "metadata": {},
   "source": [
    "### 1.2 Load the Data\n",
    "\n",
    "Due to the resource constraints, the data and knowledge features have already been computed. Let's load them below."
   ]
  },
  {
   "cell_type": "code",
   "execution_count": 157,
   "metadata": {},
   "outputs": [
    {
     "name": "stdout",
     "output_type": "stream",
     "text": [
      "There are 1696 training data, 425 test data\n",
      "Shape of X: (4, 3000) = (#channels, n)\n",
      "Shape of beat feature: (4, 3000) = (#channels, n)\n",
      "Shape of rhythm feature: (4, 60) = (#channels, M)\n",
      "Shape of frequency feature: (4, 1) = (#channels, 1)\n"
     ]
    }
   ],
   "source": [
    "train_dict = pd.read_pickle(os.path.join(DATA_PATH, 'train.pkl'))\n",
    "test_dict = pd.read_pickle(os.path.join(DATA_PATH, 'test.pkl'))\n",
    "\n",
    "print(f\"There are {len(train_dict['Y'])} training data, {len(test_dict['Y'])} test data\")\n",
    "print(f\"Shape of X: {train_dict['X'][:, 0,:].shape} = (#channels, n)\")\n",
    "print(f\"Shape of beat feature: {train_dict['K_beat'][:, 0, :].shape} = (#channels, n)\")\n",
    "print(f\"Shape of rhythm feature: {train_dict['K_rhythm'][:, 0, :].shape} = (#channels, M)\")\n",
    "print(f\"Shape of frequency feature: {train_dict['K_freq'][:, 0, :].shape} = (#channels, 1)\")"
   ]
  },
  {
   "cell_type": "code",
   "execution_count": 4,
   "metadata": {},
   "outputs": [
    {
     "name": "stdout",
     "output_type": "stream",
     "text": [
      "dict_keys(['X', 'Y', 'K_beat', 'K_rhythm', 'K_freq'])\n"
     ]
    }
   ],
   "source": [
    "# some exploration\n",
    "print(train_dict.keys())"
   ]
  },
  {
   "cell_type": "code",
   "execution_count": 5,
   "metadata": {},
   "outputs": [
    {
     "name": "stdout",
     "output_type": "stream",
     "text": [
      "X :  (4, 1696, 3000)\n",
      "Y :  (1696,)\n",
      "K_beat :  (4, 1696, 3000)\n",
      "K_rhythm :  (4, 1696, 60)\n",
      "K_freq :  (4, 1696, 1)\n"
     ]
    }
   ],
   "source": [
    "# some exploration\n",
    "for key, value in train_dict.items():\n",
    "    print(key, \": \", value.shape)"
   ]
  },
  {
   "cell_type": "code",
   "execution_count": 6,
   "metadata": {},
   "outputs": [
    {
     "data": {
      "text/plain": [
       "0"
      ]
     },
     "execution_count": 6,
     "metadata": {},
     "output_type": "execute_result"
    }
   ],
   "source": [
    "train_dict['Y'][0]"
   ]
  },
  {
   "cell_type": "code",
   "execution_count": 11,
   "metadata": {},
   "outputs": [
    {
     "data": {
      "text/plain": [
       "(4, 3000)"
      ]
     },
     "execution_count": 11,
     "metadata": {},
     "output_type": "execute_result"
    }
   ],
   "source": [
    "train_dict['X'][:, 1, :]#.squeeze().shape#"
   ]
  },
  {
   "cell_type": "markdown",
   "metadata": {},
   "source": [
    "We need to define a ECGDataset class, and then define the DataLoader as well. "
   ]
  },
  {
   "cell_type": "code",
   "execution_count": 158,
   "metadata": {},
   "outputs": [],
   "source": [
    "from torch.utils.data import Dataset\n",
    "\n",
    "class ECGDataset(Dataset):\n",
    "\n",
    "    def __init__(self, data_dict):\n",
    "\n",
    "        self.data = data_dict\n",
    "\n",
    "\n",
    "    def __len__(self):\n",
    "\n",
    "        return len(self.data['Y'])\n",
    "\n",
    "\n",
    "    def __getitem__(self, i):\n",
    "        \"\"\"\n",
    "        Generates one sample of data: return the ((X, K_beat, K_rhythm, K_freq), Y) for the i-th data.\n",
    "        \"\"\"\n",
    "        X = self.data['X'][:, i, :]\n",
    "        Y = self.data['Y'][i]\n",
    "        K_beat = self.data['K_beat'][:, i, :]\n",
    "        K_rhythm = self.data['K_rhythm'][:, i, :]\n",
    "        K_freq = self.data['K_freq'][:, i, :]\n",
    "        return ((X, K_beat, K_rhythm, K_freq), Y)\n",
    "        \n",
    "        \n",
    "from torch.utils.data import DataLoader\n",
    "def load_data(dataset, batch_size=128):\n",
    "    \"\"\"\n",
    "    Return a DataLoader instance basing on a Dataset instance, with batch_size specified.\n",
    "    Note that since the data has already been shuffled, we set shuffle=False\n",
    "    \"\"\"\n",
    "    def my_collate(batch):\n",
    "        \"\"\"\n",
    "        :param batch: this is essentially [dataset[i] for i in [...]]\n",
    "        batch[i] should be ((Xi, Ki_beat, Ki_rhythm, Ki_freq), Yi)\n",
    "        output: ((X, K_beat, K_rhythm, K_freq), Y)\n",
    "            each output variable is a batched version of what's in the input *batch*\n",
    "            For each output variable - it should be either float tensor or long tensor (for Y). If applicable, channel dim precedes batch dim\n",
    "            e.g. the shape of each Xi is (# channels, n). In the output, X should be of shape (# channels, batch_size, n)\n",
    "        \"\"\"\n",
    "        X_data, Y = zip(*batch)\n",
    "        X, K_beat, K_rhythm, K_freq = zip(*X_data)\n",
    "        X = torch.tensor(X, dtype=torch.float)\n",
    "        X = torch.transpose(X, 1, 0)\n",
    "        X = X.contiguous()\n",
    "        K_beat = torch.tensor(K_beat, dtype=torch.float)\n",
    "        K_beat = torch.transpose(K_beat, 1, 0)\n",
    "        K_beat = K_beat.contiguous()\n",
    "        K_rhythm = torch.tensor(K_rhythm, dtype=torch.float)\n",
    "        K_rhythm = torch.transpose(K_rhythm, 1, 0)\n",
    "        K_freq = torch.tensor(K_freq, dtype=torch.float)\n",
    "        K_freq = torch.transpose(K_freq, 1, 0)\n",
    "        Y = torch.tensor(Y, dtype=torch.long)\n",
    "        return (X, K_beat, K_rhythm, K_freq), Y\n",
    "\n",
    "    return torch.utils.data.DataLoader(dataset, batch_size=batch_size, shuffle=False, collate_fn=my_collate)\n",
    "\n",
    "\n",
    "train_loader = load_data(ECGDataset(train_dict))\n",
    "test_loader = load_data(ECGDataset(test_dict))"
   ]
  },
  {
   "cell_type": "code",
   "execution_count": 42,
   "metadata": {},
   "outputs": [],
   "source": [
    "# example to understand batch in my_collate():\n",
    "batch = [(('a', 'b', 'c', 'd'), 'e'), ((1, 2, 3, 4), 5)]\n",
    "X_data, Y = zip(*batch)\n",
    "X, K_beat, K_rhythm, K_freq = zip(*X_data)"
   ]
  },
  {
   "cell_type": "code",
   "execution_count": 44,
   "metadata": {},
   "outputs": [
    {
     "data": {
      "text/plain": [
       "[(('a', 'b', 'c', 'd'), (1, 2, 3, 4)), ('e', 5)]"
      ]
     },
     "execution_count": 44,
     "metadata": {},
     "output_type": "execute_result"
    }
   ],
   "source": [
    "list(zip(*batch))"
   ]
  },
  {
   "cell_type": "code",
   "execution_count": 43,
   "metadata": {},
   "outputs": [
    {
     "data": {
      "text/plain": [
       "('e', 5)"
      ]
     },
     "execution_count": 43,
     "metadata": {},
     "output_type": "execute_result"
    }
   ],
   "source": [
    "Y"
   ]
  },
  {
   "cell_type": "code",
   "execution_count": 45,
   "metadata": {},
   "outputs": [
    {
     "data": {
      "text/plain": [
       "[('a', 1), ('b', 2), ('c', 3), ('d', 4)]"
      ]
     },
     "execution_count": 45,
     "metadata": {},
     "output_type": "execute_result"
    }
   ],
   "source": [
    "list(zip(*X_data))"
   ]
  },
  {
   "cell_type": "code",
   "execution_count": 46,
   "metadata": {},
   "outputs": [
    {
     "data": {
      "text/plain": [
       "('a', 1)"
      ]
     },
     "execution_count": 46,
     "metadata": {},
     "output_type": "execute_result"
    }
   ],
   "source": [
    "X"
   ]
  },
  {
   "cell_type": "code",
   "execution_count": 47,
   "metadata": {},
   "outputs": [
    {
     "data": {
      "text/plain": [
       "('b', 2)"
      ]
     },
     "execution_count": 47,
     "metadata": {},
     "output_type": "execute_result"
    }
   ],
   "source": [
    "K_beat"
   ]
  },
  {
   "cell_type": "code",
   "execution_count": 48,
   "metadata": {},
   "outputs": [
    {
     "data": {
      "text/plain": [
       "('c', 3)"
      ]
     },
     "execution_count": 48,
     "metadata": {},
     "output_type": "execute_result"
    }
   ],
   "source": [
    "K_rhythm"
   ]
  },
  {
   "cell_type": "code",
   "execution_count": 49,
   "metadata": {},
   "outputs": [
    {
     "data": {
      "text/plain": [
       "('d', 4)"
      ]
     },
     "execution_count": 49,
     "metadata": {},
     "output_type": "execute_result"
    }
   ],
   "source": [
    "K_freq"
   ]
  },
  {
   "cell_type": "code",
   "execution_count": 9,
   "metadata": {},
   "outputs": [],
   "source": [
    "# example to better understand the data\n",
    "\n",
    "loader_iter = iter(train_loader)\n",
    "(X, K_beat, K_rhythm, K_freq), Y = next(loader_iter)\n",
    "print(X.shape)\n",
    "print(Y.shape)\n",
    "print(K_beat.shape)\n",
    "print(K_rhythm.shape)\n",
    "print(K_freq.shape)"
   ]
  },
  {
   "cell_type": "code",
   "execution_count": 65,
   "metadata": {
    "scrolled": true
   },
   "outputs": [
    {
     "name": "stdout",
     "output_type": "stream",
     "text": [
      "torch.Size([4, 128, 3000])\n"
     ]
    },
    {
     "data": {
      "text/plain": [
       "tensor([[[ 1.2629e+00,  1.2760e+00,  1.2936e+00,  ..., -1.9800e-01,\n",
       "          -4.8844e-02,  1.7489e-01],\n",
       "         [ 3.7879e-01,  3.3828e-01,  3.0588e-01,  ...,  2.2322e-02,\n",
       "          -1.0085e-02, -3.4389e-02],\n",
       "         [-1.3664e-01, -1.5056e-01, -1.7144e-01,  ..., -4.3687e-03,\n",
       "          -2.5253e-02, -3.9176e-02],\n",
       "         ...,\n",
       "         [-1.9771e-01, -2.1619e-01, -2.3204e-01,  ..., -1.5282e-01,\n",
       "          -1.6074e-01, -1.6602e-01],\n",
       "         [-2.6389e-01, -2.7908e-01, -2.9428e-01,  ...,  2.9059e-01,\n",
       "           2.6781e-01,  2.7540e-01],\n",
       "         [ 6.4430e-01,  5.6095e-01,  4.7760e-01,  ...,  2.3026e+00,\n",
       "           1.5831e+00,  8.1101e-01]],\n",
       "\n",
       "        [[ 6.5649e-03,  1.9695e-02,  3.2848e-02,  ..., -1.0684e-01,\n",
       "          -1.0704e-01, -1.0531e-01],\n",
       "         [ 1.9691e-03,  5.6763e-03,  8.9659e-03,  ..., -1.7435e-01,\n",
       "          -1.7249e-01, -1.7095e-01],\n",
       "         [-7.1029e-04, -2.1959e-03, -3.8469e-03,  ...,  2.0905e-02,\n",
       "           2.0541e-02,  2.0000e-02],\n",
       "         ...,\n",
       "         [-1.0278e-03, -3.1687e-03, -5.4658e-03,  ...,  1.0189e-01,\n",
       "           9.9204e-02,  9.6473e-02],\n",
       "         [-1.3718e-03, -4.1802e-03, -7.1173e-03,  ...,  1.9875e-01,\n",
       "           1.9958e-01,  2.0033e-01],\n",
       "         [ 3.3493e-03,  9.5799e-03,  1.4879e-02,  ...,  1.0791e-01,\n",
       "           1.2697e-01,  1.3809e-01]],\n",
       "\n",
       "        [[ 4.5869e-01,  1.0441e+00,  1.2074e+00,  ..., -1.3478e-01,\n",
       "          -4.9916e-02,  1.0913e-01],\n",
       "         [ 1.3758e-01,  2.9704e-01,  3.1189e-01,  ...,  2.2919e-01,\n",
       "           1.9463e-01,  1.6308e-01],\n",
       "         [-4.9628e-02, -1.1751e-01, -1.4782e-01,  ...,  8.6099e-03,\n",
       "          -2.4220e-02, -4.5658e-02],\n",
       "         ...,\n",
       "         [-7.1811e-02, -1.6943e-01, -2.0730e-01,  ..., -2.5311e-01,\n",
       "          -2.5905e-01, -2.6348e-01],\n",
       "         [-9.5850e-02, -2.2270e-01, -2.6673e-01,  ...,  1.3058e-01,\n",
       "           9.2558e-02,  7.5929e-02],\n",
       "         [ 2.3402e-01,  4.9999e-01,  5.0836e-01,  ...,  2.6356e+00,\n",
       "           2.0584e+00,  1.3429e+00]],\n",
       "\n",
       "        [[ 8.0063e-01,  2.2287e-01,  7.0843e-02,  ...,  3.9861e-02,\n",
       "           1.0524e-01,  1.7004e-01],\n",
       "         [ 2.4014e-01,  3.8665e-02, -1.0184e-02,  ..., -2.7362e-02,\n",
       "          -2.7876e-02, -2.2878e-02],\n",
       "         [-8.6624e-02, -3.2038e-02, -2.1825e-02,  ..., -3.3914e-02,\n",
       "          -2.2327e-02, -1.4809e-02],\n",
       "         ...,\n",
       "         [-1.2534e-01, -4.5304e-02, -2.2183e-02,  ..., -7.6305e-03,\n",
       "          -7.0667e-03, -5.2416e-03],\n",
       "         [-1.6730e-01, -5.4459e-02, -2.4223e-02,  ..., -3.8394e-02,\n",
       "          -2.4734e-02, -1.8120e-03],\n",
       "         [ 4.0847e-01,  5.6606e-02, -3.7676e-02,  ..., -3.9282e-01,\n",
       "          -5.6138e-01, -6.3992e-01]]])"
      ]
     },
     "execution_count": 65,
     "metadata": {},
     "output_type": "execute_result"
    }
   ],
   "source": [
    "print(X.shape)\n",
    "X"
   ]
  },
  {
   "cell_type": "code",
   "execution_count": 66,
   "metadata": {},
   "outputs": [
    {
     "name": "stdout",
     "output_type": "stream",
     "text": [
      "torch.Size([128])\n"
     ]
    },
    {
     "data": {
      "text/plain": [
       "tensor([0, 0, 0, 0, 1, 1, 0, 1, 0, 1, 1, 0, 0, 1, 0, 0, 1, 1, 1, 0, 1, 1, 0, 1,\n",
       "        0, 1, 0, 1, 1, 0, 0, 0, 1, 1, 1, 0, 1, 1, 0, 0, 0, 1, 1, 0, 0, 0, 0, 1,\n",
       "        0, 0, 1, 1, 0, 1, 1, 1, 0, 1, 0, 0, 0, 0, 0, 0, 0, 1, 0, 1, 0, 1, 1, 1,\n",
       "        0, 1, 0, 1, 1, 1, 1, 0, 1, 1, 0, 0, 0, 1, 1, 0, 1, 0, 1, 0, 1, 1, 1, 0,\n",
       "        1, 0, 1, 0, 1, 1, 0, 0, 0, 1, 0, 0, 0, 1, 0, 1, 1, 0, 0, 0, 1, 0, 0, 1,\n",
       "        0, 0, 0, 1, 1, 0, 0, 0])"
      ]
     },
     "execution_count": 66,
     "metadata": {},
     "output_type": "execute_result"
    }
   ],
   "source": [
    "print(Y.shape)\n",
    "Y"
   ]
  },
  {
   "cell_type": "code",
   "execution_count": 67,
   "metadata": {
    "scrolled": true
   },
   "outputs": [
    {
     "name": "stdout",
     "output_type": "stream",
     "text": [
      "torch.Size([4, 128, 3000])\n"
     ]
    },
    {
     "data": {
      "text/plain": [
       "tensor([[[0.0000e+00, 1.3161e-02, 1.7548e-02,  ..., 5.7031e-02,\n",
       "          1.4916e-01, 2.2374e-01],\n",
       "         [0.0000e+00, 4.0508e-02, 3.2406e-02,  ..., 2.4305e-02,\n",
       "          3.2406e-02, 2.4305e-02],\n",
       "         [0.0000e+00, 1.3923e-02, 2.0884e-02,  ..., 3.4807e-02,\n",
       "          2.0884e-02, 1.3923e-02],\n",
       "         ...,\n",
       "         [0.0000e+00, 1.8484e-02, 1.5843e-02,  ..., 5.2811e-03,\n",
       "          7.9217e-03, 5.2811e-03],\n",
       "         [0.0000e+00, 1.5191e-02, 1.5191e-02,  ..., 4.5574e-02,\n",
       "          2.2787e-02, 7.5957e-03],\n",
       "         [0.0000e+00, 8.3353e-02, 8.3353e-02,  ..., 5.5715e-01,\n",
       "          7.1947e-01, 7.7211e-01]],\n",
       "\n",
       "        [[0.0000e+00, 1.3130e-02, 1.3153e-02,  ..., 1.2912e-03,\n",
       "          2.0594e-04, 1.7347e-03],\n",
       "         [0.0000e+00, 3.7072e-03, 3.2896e-03,  ..., 2.1735e-03,\n",
       "          1.8561e-03, 1.5420e-03],\n",
       "         [0.0000e+00, 1.4856e-03, 1.6511e-03,  ..., 7.5172e-05,\n",
       "          3.6390e-04, 5.4106e-04],\n",
       "         ...,\n",
       "         [0.0000e+00, 2.1409e-03, 2.2971e-03,  ..., 2.6491e-03,\n",
       "          2.6902e-03, 2.7309e-03],\n",
       "         [0.0000e+00, 2.8083e-03, 2.9371e-03,  ..., 1.2042e-03,\n",
       "          8.3626e-04, 7.4855e-04],\n",
       "         [0.0000e+00, 6.2306e-03, 5.2992e-03,  ..., 2.5973e-02,\n",
       "          1.9067e-02, 1.1115e-02]],\n",
       "\n",
       "        [[0.0000e+00, 5.8544e-01, 1.6330e-01,  ..., 3.2681e-02,\n",
       "          8.4866e-02, 1.5904e-01],\n",
       "         [0.0000e+00, 1.5945e-01, 1.4857e-02,  ..., 4.4614e-02,\n",
       "          3.4563e-02, 3.1548e-02],\n",
       "         [0.0000e+00, 6.7881e-02, 3.0311e-02,  ..., 4.5824e-02,\n",
       "          3.2830e-02, 2.1438e-02],\n",
       "         ...,\n",
       "         [0.0000e+00, 9.7618e-02, 3.7873e-02,  ..., 1.1265e-02,\n",
       "          5.9340e-03, 4.4302e-03],\n",
       "         [0.0000e+00, 1.2685e-01, 4.4029e-02,  ..., 4.4543e-02,\n",
       "          3.8018e-02, 1.6629e-02],\n",
       "         [0.0000e+00, 2.6597e-01, 8.3725e-03,  ..., 3.4093e-01,\n",
       "          5.7719e-01, 7.1547e-01]],\n",
       "\n",
       "        [[0.0000e+00, 5.7776e-01, 1.5203e-01,  ..., 2.6034e-02,\n",
       "          6.5382e-02, 6.4800e-02],\n",
       "         [0.0000e+00, 2.0148e-01, 4.8850e-02,  ..., 1.7248e-02,\n",
       "          5.1460e-04, 4.9983e-03],\n",
       "         [0.0000e+00, 5.4586e-02, 1.0213e-02,  ..., 1.0300e-02,\n",
       "          1.1587e-02, 7.5180e-03],\n",
       "         ...,\n",
       "         [0.0000e+00, 8.0038e-02, 2.3120e-02,  ..., 8.3516e-03,\n",
       "          5.6376e-04, 1.8251e-03],\n",
       "         [0.0000e+00, 1.1284e-01, 3.0236e-02,  ..., 2.9352e-03,\n",
       "          1.3660e-02, 2.2922e-02],\n",
       "         [0.0000e+00, 3.5187e-01, 9.4282e-02,  ..., 2.4503e-01,\n",
       "          1.6856e-01, 7.8541e-02]]])"
      ]
     },
     "execution_count": 67,
     "metadata": {},
     "output_type": "execute_result"
    }
   ],
   "source": [
    "print(K_beat.shape)\n",
    "K_beat"
   ]
  },
  {
   "cell_type": "code",
   "execution_count": 68,
   "metadata": {
    "scrolled": true
   },
   "outputs": [
    {
     "name": "stdout",
     "output_type": "stream",
     "text": [
      "torch.Size([4, 128, 60])\n"
     ]
    },
    {
     "data": {
      "text/plain": [
       "tensor([[[2.2597e-01, 2.5406e-01, 1.5397e-02,  ..., 3.1772e-01,\n",
       "          1.9605e-02, 1.1986e-01],\n",
       "         [1.4608e-01, 1.3917e+00, 4.0025e-01,  ..., 1.3893e-01,\n",
       "          2.2768e-01, 1.4389e+00],\n",
       "         [1.9493e+00, 2.7210e-01, 8.9493e-02,  ..., 1.7915e+00,\n",
       "          3.0423e-01, 1.1694e-01],\n",
       "         ...,\n",
       "         [7.4320e-02, 6.4594e-01, 2.3840e-01,  ..., 3.7538e-02,\n",
       "          6.7724e-02, 5.9460e-01],\n",
       "         [1.5563e+00, 2.8111e-01, 7.0884e-01,  ..., 1.7832e+00,\n",
       "          3.9169e-01, 1.0505e-01],\n",
       "         [3.1824e-01, 1.1837e-02, 2.0031e-01,  ..., 2.0892e-02,\n",
       "          7.1600e-02, 9.7305e-01]],\n",
       "\n",
       "        [[1.9403e-01, 9.1282e-02, 5.8968e-02,  ..., 7.0103e-02,\n",
       "          3.8834e-02, 1.2493e-02],\n",
       "         [3.1508e-02, 9.9468e-02, 4.6085e-02,  ..., 3.7933e-02,\n",
       "          1.1804e-02, 1.2178e-01],\n",
       "         [1.2805e-01, 6.1724e-02, 8.1987e-03,  ..., 1.4678e-01,\n",
       "          6.6127e-02, 4.4027e-02],\n",
       "         ...,\n",
       "         [2.2237e-02, 4.9779e-02, 2.1465e-02,  ..., 2.7595e-02,\n",
       "          9.1541e-03, 6.0352e-02],\n",
       "         [8.4602e-02, 7.6287e-02, 1.0071e-01,  ..., 1.1725e-01,\n",
       "          3.6991e-02, 4.5971e-02],\n",
       "         [5.8887e-02, 3.3361e-02, 2.9337e-02,  ..., 6.4668e-02,\n",
       "          2.4611e-02, 6.7093e-02]],\n",
       "\n",
       "        [[2.4381e-01, 2.3528e-01, 6.8455e-02,  ..., 3.0919e-01,\n",
       "          3.5124e-02, 1.0872e-01],\n",
       "         [1.4122e-01, 1.3457e+00, 4.2520e-01,  ..., 1.3065e-01,\n",
       "          2.1994e-01, 1.4199e+00],\n",
       "         [1.8553e+00, 3.4701e-01, 8.8242e-02,  ..., 1.7280e+00,\n",
       "          3.6190e-01, 1.0951e-01],\n",
       "         ...,\n",
       "         [6.8722e-02, 6.3546e-01, 2.1887e-01,  ..., 6.1475e-02,\n",
       "          6.6528e-02, 5.8283e-01],\n",
       "         [1.4797e+00, 3.4126e-01, 7.2248e-01,  ..., 1.7496e+00,\n",
       "          3.9567e-01, 1.1758e-01],\n",
       "         [2.8645e-01, 2.8924e-02, 1.9233e-01,  ..., 8.1385e-02,\n",
       "          9.3130e-02, 9.0953e-01]],\n",
       "\n",
       "        [[1.2221e-01, 3.1744e-02, 2.7560e-03,  ..., 3.2810e-02,\n",
       "          3.2802e-03, 3.2693e-02],\n",
       "         [4.2943e-02, 3.3962e-01, 6.2814e-02,  ..., 1.6886e-02,\n",
       "          4.9499e-02, 3.3739e-01],\n",
       "         [5.5505e-01, 2.2521e-02, 2.1014e-02,  ..., 4.5537e-01,\n",
       "          2.3823e-02, 1.4942e-02],\n",
       "         ...,\n",
       "         [2.0778e-02, 1.4333e-01, 9.8956e-03,  ..., 4.1764e-03,\n",
       "          8.7057e-03, 1.2555e-01],\n",
       "         [3.5734e-01, 1.3158e-01, 6.6957e-02,  ..., 3.7201e-01,\n",
       "          4.7075e-02, 2.3556e-02],\n",
       "         [6.7464e-02, 1.7241e-03, 1.8171e-02,  ..., 2.9420e-03,\n",
       "          3.4077e-03, 1.9704e-01]]])"
      ]
     },
     "execution_count": 68,
     "metadata": {},
     "output_type": "execute_result"
    }
   ],
   "source": [
    "print(K_rhythm.shape)\n",
    "K_rhythm"
   ]
  },
  {
   "cell_type": "code",
   "execution_count": 69,
   "metadata": {},
   "outputs": [
    {
     "name": "stdout",
     "output_type": "stream",
     "text": [
      "torch.Size([4, 128, 1])\n"
     ]
    },
    {
     "data": {
      "text/plain": [
       "tensor([[[5.5387e+00],\n",
       "         [1.0000e+01],\n",
       "         [8.2317e+00],\n",
       "         [7.0163e+00],\n",
       "         [1.2804e+00],\n",
       "         [9.6590e+00],\n",
       "         [7.0819e-01],\n",
       "         [8.6440e-01],\n",
       "         [6.8304e+00],\n",
       "         [9.1337e+00],\n",
       "         [9.9332e+00],\n",
       "         [2.2602e+01],\n",
       "         [9.7953e+00],\n",
       "         [8.1712e+00],\n",
       "         [6.8707e+00],\n",
       "         [2.9273e+00],\n",
       "         [9.3838e+00],\n",
       "         [8.8979e+00],\n",
       "         [8.8408e+00],\n",
       "         [1.9380e+01],\n",
       "         [8.5938e+00],\n",
       "         [8.1198e+00],\n",
       "         [9.4539e+00],\n",
       "         [7.0049e+00],\n",
       "         [5.8857e+00],\n",
       "         [8.2901e+00],\n",
       "         [9.8349e+00],\n",
       "         [1.6851e+01],\n",
       "         [9.5970e+00],\n",
       "         [3.1653e+00],\n",
       "         [1.2374e+01],\n",
       "         [6.9046e+00],\n",
       "         [7.4591e+00],\n",
       "         [7.5990e+00],\n",
       "         [9.3953e+00],\n",
       "         [5.6439e+00],\n",
       "         [9.2764e+00],\n",
       "         [9.8193e+00],\n",
       "         [9.4656e+00],\n",
       "         [1.2144e+00],\n",
       "         [1.2128e+00],\n",
       "         [9.1712e+00],\n",
       "         [8.3574e+00],\n",
       "         [4.0818e+00],\n",
       "         [1.3461e+01],\n",
       "         [5.2298e+00],\n",
       "         [7.8492e+00],\n",
       "         [8.3397e+00],\n",
       "         [7.0500e+00],\n",
       "         [9.3072e+00],\n",
       "         [8.9127e+00],\n",
       "         [7.5361e-01],\n",
       "         [8.9809e+00],\n",
       "         [8.4298e+00],\n",
       "         [9.8594e+00],\n",
       "         [8.7271e+00],\n",
       "         [7.8198e+00],\n",
       "         [8.4536e+00],\n",
       "         [6.7696e+00],\n",
       "         [1.5912e+01],\n",
       "         [7.5455e+00],\n",
       "         [1.2243e+01],\n",
       "         [9.8957e+00],\n",
       "         [9.8739e+00],\n",
       "         [8.3040e+00],\n",
       "         [9.1824e+00],\n",
       "         [1.0952e+01],\n",
       "         [1.0734e+01],\n",
       "         [7.9996e+00],\n",
       "         [9.0852e+00],\n",
       "         [8.8963e+00],\n",
       "         [9.5683e+00],\n",
       "         [3.5428e+00],\n",
       "         [7.0898e+00],\n",
       "         [9.3527e+00],\n",
       "         [8.3246e+00],\n",
       "         [6.2287e+00],\n",
       "         [7.0212e+00],\n",
       "         [8.4670e+00],\n",
       "         [1.1590e+01],\n",
       "         [1.6979e+01],\n",
       "         [1.2865e+00],\n",
       "         [7.7196e+00],\n",
       "         [1.1452e+01],\n",
       "         [2.9650e+00],\n",
       "         [8.2816e+00],\n",
       "         [1.0545e+00],\n",
       "         [3.4185e+00],\n",
       "         [9.7595e+00],\n",
       "         [8.5961e+00],\n",
       "         [8.9644e+00],\n",
       "         [9.2837e+00],\n",
       "         [1.7758e+01],\n",
       "         [1.1978e+01],\n",
       "         [1.2140e+00],\n",
       "         [6.8275e+00],\n",
       "         [9.1884e+00],\n",
       "         [1.3134e+01],\n",
       "         [8.3275e+00],\n",
       "         [9.5257e+00],\n",
       "         [9.0076e+00],\n",
       "         [6.1663e+00],\n",
       "         [3.7513e+00],\n",
       "         [4.8839e+00],\n",
       "         [2.7639e+00],\n",
       "         [9.8108e+00],\n",
       "         [3.9006e+00],\n",
       "         [9.7394e+00],\n",
       "         [1.2513e+00],\n",
       "         [8.1139e+00],\n",
       "         [1.0425e+01],\n",
       "         [4.2030e+00],\n",
       "         [6.9263e+00],\n",
       "         [1.5815e+01],\n",
       "         [7.1335e+00],\n",
       "         [9.6076e+00],\n",
       "         [8.4230e+00],\n",
       "         [1.4929e+01],\n",
       "         [7.0255e+00],\n",
       "         [6.9942e+00],\n",
       "         [7.0808e+00],\n",
       "         [7.0705e-01],\n",
       "         [1.0493e+01],\n",
       "         [8.3563e+00],\n",
       "         [8.9574e+00],\n",
       "         [1.3797e+00],\n",
       "         [1.0303e+01],\n",
       "         [8.1865e+00]],\n",
       "\n",
       "        [[8.8783e-01],\n",
       "         [1.0534e+00],\n",
       "         [1.9142e-01],\n",
       "         [2.9416e-01],\n",
       "         [9.8393e-02],\n",
       "         [4.1890e-01],\n",
       "         [3.1766e-02],\n",
       "         [4.9585e-02],\n",
       "         [2.7033e-01],\n",
       "         [4.2689e-01],\n",
       "         [1.2748e-01],\n",
       "         [5.3618e+00],\n",
       "         [1.1952e-01],\n",
       "         [2.6839e-01],\n",
       "         [5.6043e-01],\n",
       "         [9.4964e-02],\n",
       "         [1.2465e-01],\n",
       "         [4.2302e-01],\n",
       "         [4.5418e-01],\n",
       "         [4.1344e+00],\n",
       "         [2.7271e-01],\n",
       "         [9.3664e-01],\n",
       "         [4.2633e-01],\n",
       "         [1.4356e-01],\n",
       "         [5.4450e-01],\n",
       "         [3.6893e-01],\n",
       "         [7.0933e-01],\n",
       "         [5.0065e+00],\n",
       "         [4.0006e-01],\n",
       "         [1.9199e-01],\n",
       "         [1.3995e+00],\n",
       "         [4.4367e-01],\n",
       "         [1.6654e-01],\n",
       "         [2.2420e+00],\n",
       "         [7.3143e-01],\n",
       "         [6.8638e-01],\n",
       "         [4.3782e-01],\n",
       "         [7.0382e-01],\n",
       "         [1.3776e-01],\n",
       "         [4.3409e-02],\n",
       "         [1.2239e-01],\n",
       "         [3.1748e-01],\n",
       "         [2.4969e+00],\n",
       "         [1.3004e-01],\n",
       "         [1.5530e+00],\n",
       "         [1.9196e-01],\n",
       "         [2.9354e-01],\n",
       "         [2.4953e+00],\n",
       "         [2.5749e-01],\n",
       "         [1.0512e+00],\n",
       "         [3.2919e-01],\n",
       "         [4.4619e-02],\n",
       "         [2.3317e+00],\n",
       "         [1.0227e+00],\n",
       "         [6.0964e-01],\n",
       "         [4.2534e-01],\n",
       "         [4.0370e-01],\n",
       "         [3.3369e-01],\n",
       "         [4.1802e-01],\n",
       "         [3.9157e+00],\n",
       "         [6.6007e-01],\n",
       "         [1.8216e+00],\n",
       "         [1.1074e-01],\n",
       "         [5.8165e-01],\n",
       "         [2.6584e-01],\n",
       "         [4.3111e-01],\n",
       "         [7.3386e-01],\n",
       "         [1.0193e+00],\n",
       "         [1.6009e+00],\n",
       "         [5.5285e-01],\n",
       "         [3.1680e-01],\n",
       "         [3.7108e-01],\n",
       "         [1.6775e-01],\n",
       "         [1.7097e-01],\n",
       "         [2.0601e-01],\n",
       "         [2.4829e+00],\n",
       "         [5.1956e-01],\n",
       "         [1.6645e-01],\n",
       "         [3.7355e-01],\n",
       "         [3.0427e+00],\n",
       "         [2.6561e+00],\n",
       "         [9.7592e-02],\n",
       "         [3.1758e-01],\n",
       "         [9.7348e-01],\n",
       "         [1.3333e-01],\n",
       "         [3.5668e-01],\n",
       "         [6.9610e-02],\n",
       "         [1.8335e-01],\n",
       "         [3.9366e-01],\n",
       "         [4.4446e-01],\n",
       "         [3.3443e-01],\n",
       "         [5.1122e-01],\n",
       "         [2.9523e+00],\n",
       "         [1.0057e+00],\n",
       "         [9.2119e-02],\n",
       "         [8.5789e-01],\n",
       "         [7.3137e-01],\n",
       "         [1.4674e+00],\n",
       "         [3.7045e-01],\n",
       "         [1.6529e+00],\n",
       "         [3.9037e-01],\n",
       "         [5.2788e-01],\n",
       "         [3.3897e-01],\n",
       "         [2.5404e-01],\n",
       "         [1.0570e-01],\n",
       "         [4.2793e-01],\n",
       "         [9.0857e-02],\n",
       "         [8.9037e-01],\n",
       "         [5.6732e-02],\n",
       "         [4.4123e-01],\n",
       "         [5.5994e-01],\n",
       "         [9.6211e-01],\n",
       "         [2.1086e-01],\n",
       "         [3.9951e+00],\n",
       "         [2.4141e-01],\n",
       "         [1.2117e-01],\n",
       "         [3.7255e-01],\n",
       "         [3.1417e+00],\n",
       "         [6.0242e-01],\n",
       "         [1.5859e-01],\n",
       "         [5.4581e-01],\n",
       "         [2.7205e-02],\n",
       "         [5.9628e-01],\n",
       "         [9.5426e-01],\n",
       "         [3.2933e-01],\n",
       "         [8.2262e-02],\n",
       "         [2.3839e-01],\n",
       "         [1.6233e+00]],\n",
       "\n",
       "        [[4.6005e+00],\n",
       "         [8.7625e+00],\n",
       "         [7.6600e+00],\n",
       "         [6.6986e+00],\n",
       "         [1.1703e+00],\n",
       "         [8.9098e+00],\n",
       "         [6.7159e-01],\n",
       "         [8.0168e-01],\n",
       "         [6.5419e+00],\n",
       "         [8.3876e+00],\n",
       "         [9.5859e+00],\n",
       "         [1.7332e+01],\n",
       "         [9.3556e+00],\n",
       "         [7.9296e+00],\n",
       "         [6.2043e+00],\n",
       "         [2.7116e+00],\n",
       "         [9.0626e+00],\n",
       "         [8.4747e+00],\n",
       "         [8.3876e+00],\n",
       "         [1.5264e+01],\n",
       "         [7.9513e+00],\n",
       "         [7.1466e+00],\n",
       "         [8.8486e+00],\n",
       "         [6.7194e+00],\n",
       "         [5.3125e+00],\n",
       "         [7.8984e+00],\n",
       "         [9.1720e+00],\n",
       "         [1.1813e+01],\n",
       "         [8.8859e+00],\n",
       "         [2.8750e+00],\n",
       "         [1.0502e+01],\n",
       "         [6.3146e+00],\n",
       "         [7.1158e+00],\n",
       "         [5.3353e+00],\n",
       "         [8.3809e+00],\n",
       "         [4.9979e+00],\n",
       "         [8.5457e+00],\n",
       "         [8.9112e+00],\n",
       "         [9.3537e+00],\n",
       "         [1.1508e+00],\n",
       "         [1.0683e+00],\n",
       "         [8.6683e+00],\n",
       "         [5.8817e+00],\n",
       "         [3.8976e+00],\n",
       "         [1.1788e+01],\n",
       "         [4.9901e+00],\n",
       "         [7.1906e+00],\n",
       "         [5.8633e+00],\n",
       "         [6.7220e+00],\n",
       "         [8.1823e+00],\n",
       "         [8.4504e+00],\n",
       "         [6.9985e-01],\n",
       "         [6.6061e+00],\n",
       "         [7.3579e+00],\n",
       "         [8.9560e+00],\n",
       "         [8.0066e+00],\n",
       "         [7.3674e+00],\n",
       "         [8.0044e+00],\n",
       "         [6.1704e+00],\n",
       "         [1.1911e+01],\n",
       "         [6.6727e+00],\n",
       "         [1.0325e+01],\n",
       "         [9.4566e+00],\n",
       "         [9.1222e+00],\n",
       "         [7.9299e+00],\n",
       "         [8.4299e+00],\n",
       "         [1.0027e+01],\n",
       "         [9.5038e+00],\n",
       "         [6.3626e+00],\n",
       "         [8.5622e+00],\n",
       "         [8.4311e+00],\n",
       "         [8.8792e+00],\n",
       "         [3.2352e+00],\n",
       "         [6.7875e+00],\n",
       "         [8.7852e+00],\n",
       "         [5.8563e+00],\n",
       "         [5.6537e+00],\n",
       "         [6.7105e+00],\n",
       "         [8.0916e+00],\n",
       "         [8.4572e+00],\n",
       "         [1.4455e+01],\n",
       "         [1.1796e+00],\n",
       "         [7.2617e+00],\n",
       "         [1.0233e+01],\n",
       "         [2.7117e+00],\n",
       "         [7.9526e+00],\n",
       "         [9.6828e-01],\n",
       "         [3.1033e+00],\n",
       "         [9.0038e+00],\n",
       "         [7.9287e+00],\n",
       "         [8.4751e+00],\n",
       "         [8.5943e+00],\n",
       "         [1.4960e+01],\n",
       "         [1.0645e+01],\n",
       "         [1.1108e+00],\n",
       "         [5.8034e+00],\n",
       "         [8.1970e+00],\n",
       "         [1.1305e+01],\n",
       "         [7.8411e+00],\n",
       "         [7.7285e+00],\n",
       "         [8.4950e+00],\n",
       "         [5.5833e+00],\n",
       "         [3.3086e+00],\n",
       "         [4.5472e+00],\n",
       "         [2.5471e+00],\n",
       "         [9.0558e+00],\n",
       "         [3.7123e+00],\n",
       "         [8.6200e+00],\n",
       "         [1.1731e+00],\n",
       "         [7.5442e+00],\n",
       "         [9.7026e+00],\n",
       "         [3.1461e+00],\n",
       "         [6.5833e+00],\n",
       "         [1.1847e+01],\n",
       "         [6.6409e+00],\n",
       "         [9.1767e+00],\n",
       "         [8.0805e+00],\n",
       "         [1.1581e+01],\n",
       "         [6.2749e+00],\n",
       "         [6.7046e+00],\n",
       "         [6.4562e+00],\n",
       "         [6.8101e-01],\n",
       "         [9.6648e+00],\n",
       "         [7.3603e+00],\n",
       "         [8.4704e+00],\n",
       "         [1.2747e+00],\n",
       "         [9.8685e+00],\n",
       "         [6.5223e+00]],\n",
       "\n",
       "        [[1.0599e-01],\n",
       "         [2.9757e-01],\n",
       "         [5.0149e-01],\n",
       "         [1.2664e-01],\n",
       "         [2.7000e-02],\n",
       "         [4.2485e-01],\n",
       "         [1.0112e-02],\n",
       "         [2.3625e-02],\n",
       "         [1.2575e-01],\n",
       "         [4.3772e-01],\n",
       "         [3.7765e-01],\n",
       "         [1.0168e-01],\n",
       "         [4.6899e-01],\n",
       "         [1.0617e-01],\n",
       "         [1.8507e-01],\n",
       "         [1.5521e-01],\n",
       "         [3.4703e-01],\n",
       "         [1.1226e-01],\n",
       "         [1.0716e-01],\n",
       "         [1.5629e-01],\n",
       "         [4.4102e-01],\n",
       "         [1.4093e-01],\n",
       "         [3.1985e-01],\n",
       "         [2.5357e-01],\n",
       "         [9.4024e-02],\n",
       "         [1.0227e-01],\n",
       "         [7.5339e-02],\n",
       "         [5.0009e-02],\n",
       "         [4.4320e-01],\n",
       "         [1.3888e-01],\n",
       "         [4.8119e-01],\n",
       "         [2.4236e-01],\n",
       "         [2.7035e-01],\n",
       "         [3.1662e-02],\n",
       "         [3.7987e-01],\n",
       "         [3.7167e-02],\n",
       "         [4.2643e-01],\n",
       "         [3.3689e-01],\n",
       "         [1.3155e-01],\n",
       "         [3.8816e-02],\n",
       "         [3.8133e-02],\n",
       "         [3.1879e-01],\n",
       "         [3.3727e-02],\n",
       "         [1.1940e-01],\n",
       "         [2.5512e-01],\n",
       "         [1.0449e-01],\n",
       "         [4.6733e-01],\n",
       "         [3.3686e-02],\n",
       "         [1.8180e-01],\n",
       "         [1.9175e-01],\n",
       "         [2.7047e-01],\n",
       "         [2.0562e-02],\n",
       "         [3.1804e-02],\n",
       "         [1.4213e-01],\n",
       "         [3.8224e-01],\n",
       "         [4.1846e-01],\n",
       "         [1.3732e-01],\n",
       "         [2.4510e-01],\n",
       "         [2.6596e-01],\n",
       "         [1.9600e-01],\n",
       "         [2.7841e-01],\n",
       "         [2.4216e-01],\n",
       "         [4.8337e-01],\n",
       "         [2.9908e-01],\n",
       "         [2.1675e-01],\n",
       "         [4.3663e-01],\n",
       "         [3.4168e-01],\n",
       "         [3.4332e-01],\n",
       "         [1.0731e-01],\n",
       "         [1.0757e-01],\n",
       "         [2.6307e-01],\n",
       "         [4.4718e-01],\n",
       "         [1.8680e-01],\n",
       "         [2.4432e-01],\n",
       "         [4.9836e-01],\n",
       "         [3.3762e-02],\n",
       "         [1.3934e-01],\n",
       "         [2.5264e-01],\n",
       "         [1.0711e-01],\n",
       "         [1.8606e-01],\n",
       "         [5.8382e-02],\n",
       "         [2.7428e-02],\n",
       "         [2.5296e-01],\n",
       "         [3.0314e-01],\n",
       "         [1.6150e-01],\n",
       "         [1.0421e-01],\n",
       "         [2.6349e-02],\n",
       "         [1.7544e-01],\n",
       "         [4.8626e-01],\n",
       "         [3.4459e-01],\n",
       "         [2.6011e-01],\n",
       "         [3.0741e-01],\n",
       "         [5.7725e-02],\n",
       "         [4.3922e-01],\n",
       "         [2.6973e-02],\n",
       "         [2.2060e-01],\n",
       "         [3.5876e-01],\n",
       "         [5.0363e-01],\n",
       "         [2.3136e-01],\n",
       "         [1.4491e-01],\n",
       "         [1.1380e-01],\n",
       "         [1.3609e-01],\n",
       "         [1.4877e-01],\n",
       "         [1.4942e-01],\n",
       "         [1.4985e-01],\n",
       "         [4.6593e-01],\n",
       "         [1.5206e-01],\n",
       "         [3.5148e-01],\n",
       "         [3.8831e-02],\n",
       "         [2.4895e-01],\n",
       "         [3.0338e-01],\n",
       "         [2.9323e-02],\n",
       "         [2.4055e-01],\n",
       "         [9.2675e-02],\n",
       "         [3.5630e-01],\n",
       "         [4.6077e-01],\n",
       "         [1.0325e-01],\n",
       "         [2.2560e-01],\n",
       "         [2.3712e-01],\n",
       "         [2.4329e-01],\n",
       "         [1.7125e-01],\n",
       "         [1.0062e-02],\n",
       "         [3.3997e-01],\n",
       "         [1.4088e-01],\n",
       "         [2.6643e-01],\n",
       "         [3.9900e-02],\n",
       "         [3.4764e-01],\n",
       "         [1.1341e-01]]])"
      ]
     },
     "execution_count": 69,
     "metadata": {},
     "output_type": "execute_result"
    }
   ],
   "source": [
    "print(K_freq.shape)\n",
    "K_freq"
   ]
  },
  {
   "cell_type": "markdown",
   "metadata": {},
   "source": [
    "## 2 Model Defintions\n",
    "\n",
    "Now, let us implement a model that involves RNN, CNN and attention mechanism. More specifically, we will implement [MINA: Multilevel Knowledge-Guided Attention for Modeling Electrocardiography Signals](https://www.ijcai.org/Proceedings/2019/0816.pdf).\n",
    "\n",
    "### 2.1 Knowledge-guided attention\n",
    "Knowledge-guided attention is an attention mechanism that introduces prior knowledge (such as features proposed by human experts) in the features used by the attention mechanism. We will first define the general KnowledgeAttn module, and use it at different levels later.\n",
    "\n",
    "There are three steps:\n",
    "* 1\\. concatenate the input ($X$) and knowledge ($K$).\n",
    "* 2\\. pass it through a linear layer, a tanh, another linear layer, and softmax: $attn = softmax(V^\\top \\tanh(W^\\top \\begin{bmatrix}X\\\\K\\end{bmatrix}))$\n",
    "* 3\\. use attention values to sum $X$: $output = \\sum_{i=1}^D attn_i x_i$ where $attn_i$ is a scalar and $x_i$ is a vector."
   ]
  },
  {
   "cell_type": "code",
   "execution_count": 160,
   "metadata": {},
   "outputs": [],
   "source": [
    "import torch.nn.functional as F\n",
    "\n",
    "class KnowledgeAttn(nn.Module):\n",
    "    def __init__(self, input_features, attn_dim):\n",
    "        \"\"\"\n",
    "        This is the general knowledge-guided attention module.\n",
    "        It will transform the input and knowledge with 2 linear layers, computes attention, and then aggregate.\n",
    "        :param input_features: the number of features for each\n",
    "        :param attn_dim: the number of hidden nodes in the attention mechanism\n",
    "        We define the following 2 linear layers WITHOUT bias (with the names provided)\n",
    "                att_W: a Linear layer of shape (input_features + n_knowledge, attn_dim)\n",
    "                att_v: a Linear layer of shape (attn_dim, 1)\n",
    "            init the weights using self.init() (already given)\n",
    "        \"\"\"\n",
    "        super(KnowledgeAttn, self).__init__()\n",
    "        self.input_features = input_features\n",
    "        self.attn_dim = attn_dim\n",
    "        self.n_knowledge = 1\n",
    "\n",
    "        self.att_W = nn.Linear(input_features + self.n_knowledge, attn_dim, bias=False)\n",
    "        self.att_v = nn.Linear(attn_dim, 1, bias=False)\n",
    "\n",
    "        self.init()\n",
    "\n",
    "    def init(self):\n",
    "        nn.init.normal_(self.att_W.weight)\n",
    "        nn.init.normal_(self.att_v.weight)\n",
    "\n",
    "    @classmethod\n",
    "    def attention_sum(cls, x, attn):\n",
    "        \"\"\"\n",
    "        :param x: of shape (-1, D, nfeatures)\n",
    "        :param attn: of shape (-1, D, 1)\n",
    "        Eeturn the weighted sum of x along the middle axis with weights even in attn. output shoule be (-1, nfeatures)\n",
    "        \"\"\"\n",
    "        return torch.sum(attn*x, dim=1)\n",
    "\n",
    "\n",
    "    def forward(self, x, k):\n",
    "        \"\"\"\n",
    "        :param x: shape of (-1, D, input_features)\n",
    "        :param k: shape of (-1, D, 1)\n",
    "        :return:\n",
    "            out: shape of (-1, input_features), the aggregated x\n",
    "            attn: shape of (-1, D, 1)\n",
    "        Steps:\n",
    "            concatenate the input x and knowledge k together (on the last dimension)\n",
    "            pass the concatenated output through the learnable Linear transforms\n",
    "                first att_W, then tanh, then att_v\n",
    "                the output shape should be (-1, D, 1)\n",
    "            to get attention values, apply softmax on the output of linear layer\n",
    "            aggregate x using the attention values via self.attention_sum, and return\n",
    "        \"\"\"\n",
    "        concat = torch.cat((x, k), -1)\n",
    "        concat = self.att_v(torch.tanh(self.att_W(concat)))\n",
    "        attn = F.softmax(concat, dim=1)\n",
    "        out = self.attention_sum(x, attn)\n",
    "        return out, attn"
   ]
  },
  {
   "cell_type": "code",
   "execution_count": 77,
   "metadata": {},
   "outputs": [
    {
     "name": "stdout",
     "output_type": "stream",
     "text": [
      "torch.Size([4, 128, 3000])\n",
      "torch.Size([4, 128, 1])\n"
     ]
    }
   ],
   "source": [
    "# example to understand the model:\n",
    "input_features, attn_dim = 3000, 16\n",
    "x = X\n",
    "k = K_freq\n",
    "print(x.shape)\n",
    "print(k.shape)"
   ]
  },
  {
   "cell_type": "code",
   "execution_count": 78,
   "metadata": {},
   "outputs": [
    {
     "data": {
      "text/plain": [
       "Parameter containing:\n",
       "tensor([[-0.8838,  2.8390,  0.3181, -0.9566, -0.6491, -0.3402, -1.2464, -0.0099,\n",
       "         -0.0447, -0.8738,  0.8336,  0.4724, -0.7647, -1.2130,  2.8262,  1.4449]],\n",
       "       requires_grad=True)"
      ]
     },
     "execution_count": 78,
     "metadata": {},
     "output_type": "execute_result"
    }
   ],
   "source": [
    "n_knowledge = 1\n",
    "att_W = nn.Linear(input_features + n_knowledge, attn_dim, bias=False)\n",
    "att_v = nn.Linear(attn_dim, 1, bias=False)\n",
    "nn.init.normal_(att_W.weight)\n",
    "nn.init.normal_(att_v.weight)"
   ]
  },
  {
   "cell_type": "code",
   "execution_count": 80,
   "metadata": {},
   "outputs": [
    {
     "name": "stdout",
     "output_type": "stream",
     "text": [
      "torch.Size([4, 128, 3001])\n",
      "torch.Size([4, 128, 1])\n",
      "torch.Size([4, 128, 1])\n",
      "torch.Size([4, 3000])\n"
     ]
    }
   ],
   "source": [
    "concat = torch.cat((x, k), -1)\n",
    "print(concat.shape)\n",
    "concat = att_v(torch.tanh(att_W(concat)))\n",
    "print(concat.shape)\n",
    "attn = F.softmax(concat, dim=1)\n",
    "print(attn.shape)\n",
    "out = torch.sum(attn*x, dim=1)\n",
    "print(out.shape)"
   ]
  },
  {
   "cell_type": "code",
   "execution_count": 22,
   "metadata": {},
   "outputs": [],
   "source": [
    "m = KnowledgeAttn(2, 2)\n",
    "m.att_W.weight.data = torch.tensor([[0.3298,  0.7045, -0.1067],\n",
    "                                    [0.9656,  0.3090,  1.2627]], requires_grad=True)\n",
    "m.att_v.weight.data = torch.tensor([[-0.2368,  0.5824]], requires_grad=True)\n",
    "\n",
    "x = torch.tensor([[[-0.6898, -0.9098], [0.0230,  0.2879], [-0.2534, -0.3190]],\n",
    "                  [[ 0.5412, -0.3434], [0.0289, -0.2837], [-0.4120, -0.7858]]])\n",
    "k = torch.tensor([[ 0.5469,  0.3948, -1.1430], [0.7815, -1.4787, -0.2929]]).unsqueeze(2)\n",
    "out, attn = m(x, k)\n",
    "\n",
    "tout = torch.tensor([[-0.2817, -0.2531], [0.2144, -0.4387]])\n",
    "tattn = torch.tensor([[[0.3482], [0.4475], [0.2043]],\n",
    "                      [[0.5696], [0.1894], [0.2410]]])"
   ]
  },
  {
   "cell_type": "code",
   "execution_count": 23,
   "metadata": {},
   "outputs": [
    {
     "name": "stdout",
     "output_type": "stream",
     "text": [
      "torch.Size([2, 3, 2])\n",
      "torch.Size([2, 3, 1])\n"
     ]
    }
   ],
   "source": [
    "x = torch.tensor([[[-0.6898, -0.9098], [0.0230,  0.2879], [-0.2534, -0.3190]],\n",
    "                  [[ 0.5412, -0.3434], [0.0289, -0.2837], [-0.4120, -0.7858]]])\n",
    "print(x.shape)\n",
    "k = torch.tensor([[ 0.5469,  0.3948, -1.1430], [0.7815, -1.4787, -0.2929]]).unsqueeze(2)\n",
    "print(k.shape)"
   ]
  },
  {
   "cell_type": "code",
   "execution_count": 161,
   "metadata": {},
   "outputs": [],
   "source": [
    "def float_tensor_equal(a, b, eps=1e-3):\n",
    "    return torch.norm(a-b).abs().max().tolist() < eps\n",
    "\n",
    "def testKnowledgeAttn():\n",
    "    m = KnowledgeAttn(2, 2)\n",
    "    m.att_W.weight.data = torch.tensor([[0.3298,  0.7045, -0.1067],\n",
    "                                        [0.9656,  0.3090,  1.2627]], requires_grad=True)\n",
    "    m.att_v.weight.data = torch.tensor([[-0.2368,  0.5824]], requires_grad=True)\n",
    "\n",
    "    x = torch.tensor([[[-0.6898, -0.9098], [0.0230,  0.2879], [-0.2534, -0.3190]],\n",
    "                      [[ 0.5412, -0.3434], [0.0289, -0.2837], [-0.4120, -0.7858]]])\n",
    "    k = torch.tensor([[ 0.5469,  0.3948, -1.1430], [0.7815, -1.4787, -0.2929]]).unsqueeze(2)\n",
    "    out, attn = m(x, k)\n",
    "\n",
    "    tout = torch.tensor([[-0.2817, -0.2531], [0.2144, -0.4387]])\n",
    "    tattn = torch.tensor([[[0.3482], [0.4475], [0.2043]],\n",
    "                          [[0.5696], [0.1894], [0.2410]]])\n",
    "    assert float_tensor_equal(attn, tattn), \"The attention values are wrong\"\n",
    "    assert float_tensor_equal(out, tout), \"output of the attention module is wrong\"\n",
    "    \n",
    "testKnowledgeAttn()"
   ]
  },
  {
   "cell_type": "markdown",
   "metadata": {},
   "source": [
    "## 2.2 MINA"
   ]
  },
  {
   "cell_type": "markdown",
   "metadata": {},
   "source": [
    "We will now use the knowledge-guided attention mechanism to construct MINA. The overall structure is show below. From \"Input\" to \"Sliding Window Segmentation\" has already been done in the data preprocessing part, and in this section we will need to define things above \"Segment\"\n",
    "![MINAstructure](img/MINA_structure.png)\n",
    "\n",
    "\n",
    "Here, CNN (`BeatNet`) is used to capture beat information, Bi-LSTM (`RhythmNet`) is used to capture rhythm level information, and the from $c^{(i)}$ to $p$ is aggregating frequency levle infomration (`FreqNet`). Note that although the input has 4 channels, we actually need to handle each channel separately because they have different meanings after we did the FIR. Thus, we will need 4 `BeatNet`s, 4 `RhythmNet`s, and 1 `FreqNet`. \n",
    " "
   ]
  },
  {
   "cell_type": "markdown",
   "metadata": {},
   "source": [
    "MINA has three different knowledge guided attention mechanisms:\n",
    " - Beat Level $K_{beat}$: extract beat knowledge which is represented by the first-order difference and a convolutional operation $Conv_\\alpha$ for each segment\n",
    " - Rhythm Level $K_{rhythn}$: extract rhythm features represented by the standard deviation on each segment\n",
    " - Frequency Level $K_{freq}$: frequency features are represented by the power spectral density (PSD), which is a popular measure of energy in signal processing.\n",
    "\n",
    "### 2.2.1 BeatNet\n",
    "For BeatNet, the attention $\\alpha$ is computed by the following:\n",
    "    $$\\alpha = softmax(V_\\alpha^\\top \\tanh(W_\\alpha^\\top \\begin{bmatrix} \\mathbf{L}\\\\\\mathbf{K}_{beat} \\end{bmatrix}))$$\n",
    "Here, $L$ is output by the convolutional layers, and $K_{beat}$ is the computed beat level knowledge features."
   ]
  },
  {
   "cell_type": "code",
   "execution_count": 162,
   "metadata": {},
   "outputs": [],
   "source": [
    "class BeatNet(nn.Module):\n",
    "    #Attention for the CNN step/ beat level/local information\n",
    "    def __init__(self, n=3000, T=50,\n",
    "                 conv_out_channels=64):\n",
    "        \"\"\"\n",
    "        :param n: size of each 10-second-data\n",
    "        :param T: size of each smaller segment used to capture local information in the CNN stage\n",
    "        :param conv_out_channels: also called number of filters/kernels\n",
    "        We will define a network that does two things. Specifically:\n",
    "            1. use one 1-D convolutional layer to capture local informatoin, on x and k_beat (see forward())\n",
    "                conv: The kernel size should be set to 32, and the number of filters should be set to *conv_out_channels*. Stride should be *conv_stride*\n",
    "                conv_k: same as conv, except that it has only 1 filter instead of *conv_out_channels*\n",
    "            2. an attention mechanism to aggregate the convolution outputs. Specifically:\n",
    "                attn: KnowledgeAttn with input_features equaling conv_out_channels, and attn_dim=att_cnn_dim\n",
    "        \"\"\"\n",
    "        super(BeatNet, self).__init__()\n",
    "        self.n, self.M, self.T = n, int(n/T), T\n",
    "        self.conv_out_channels = conv_out_channels\n",
    "        self.conv_kernel_size = 32\n",
    "        self.conv_stride = 2\n",
    "        #Define conv and conv_k, the two Conv1d modules\n",
    "        self.conv = nn.Conv1d(1, self.conv_out_channels, kernel_size=self.conv_kernel_size, stride=self.conv_stride)\n",
    "        self.conv_k = nn.Conv1d(1, 1, kernel_size=self.conv_kernel_size, stride=self.conv_stride)\n",
    "\n",
    "        self.att_cnn_dim = 8\n",
    "        #Define attn, the KnowledgeAttn module\n",
    "        self.attn = KnowledgeAttn(self.conv_out_channels, attn_dim=self.att_cnn_dim)\n",
    "\n",
    "\n",
    "    def forward(self, x, k_beat):\n",
    "        \"\"\"\n",
    "        :param x: shape (batch, n)\n",
    "        :param k_beat: shape (batch, n)\n",
    "        :return:\n",
    "            out: shape (batch, M, self.conv_out_channels)\n",
    "            alpha: shape (batch * M, N, 1) where N is a result of convolution\n",
    "        Steps:\n",
    "            [Given] reshape the data - convert x/k_beat of shape (batch, n) to (batch * M, 1, T), where n = MT\n",
    "                If you define the data carefully, you could use torch.Tensor.view() for all reshapes in this HW\n",
    "            apply convolution on x and k_beat\n",
    "                pass the reshaped x through self.conv, and then ReLU\n",
    "                pass the reshaped k_beat through self.conv_k, and then ReLU\n",
    "            (at this step, you might need to swap axix 1 & 2 to align the dimensions depending on how you defined the layers)\n",
    "            pass the conv'd x and conv'd knowledge through self.attn to get the output (*out*) and attention (*alpha*)\n",
    "            [Given] reshape the output *out* to be of shape (batch, M, self.conv_out_channels)\n",
    "        \"\"\"\n",
    "        x = x.view(-1, self.T).unsqueeze(1)\n",
    "        k_beat = k_beat.view(-1, self.T).unsqueeze(1)\n",
    "        x = F.relu(self.conv(x))\n",
    "        k_beat = F.relu(self.conv_k(k_beat))        \n",
    "        out, alpha = self.attn(x.transpose(1,2), k_beat.transpose(1,2))\n",
    "        out = out.view(-1, self.M, self.conv_out_channels)\n",
    "        return out, alpha"
   ]
  },
  {
   "cell_type": "code",
   "execution_count": 109,
   "metadata": {
    "scrolled": true
   },
   "outputs": [
    {
     "name": "stdout",
     "output_type": "stream",
     "text": [
      "torch.Size([128, 3000])\n",
      "torch.Size([128, 3000])\n",
      "torch.Size([7680, 1, 50])\n",
      "torch.Size([7680, 1, 50])\n"
     ]
    }
   ],
   "source": [
    "# try 2.2.1\n",
    "\n",
    "x0 = X[0]\n",
    "print(x0.shape)\n",
    "k_beat0 = K_beat[0]\n",
    "print(k_beat0.shape)\n",
    "x = x0.contiguous().view(-1, 50).unsqueeze(1)\n",
    "k_beat = k_beat0.contiguous().view(-1, 50).unsqueeze(1)\n",
    "print(x.shape)\n",
    "print(k_beat.shape)"
   ]
  },
  {
   "cell_type": "code",
   "execution_count": 110,
   "metadata": {},
   "outputs": [],
   "source": [
    "n=3000\n",
    "T=50\n",
    "M = int(n/T)\n",
    "conv_out_channels=64\n",
    "conv_kernel_size = 32\n",
    "conv_stride = 2\n",
    "conv = nn.Conv1d(1, conv_out_channels, kernel_size=conv_kernel_size, stride=conv_stride)\n",
    "conv_k = nn.Conv1d(1, 1, kernel_size=conv_kernel_size, stride=conv_stride)"
   ]
  },
  {
   "cell_type": "code",
   "execution_count": 111,
   "metadata": {},
   "outputs": [
    {
     "name": "stdout",
     "output_type": "stream",
     "text": [
      "torch.Size([7680, 64, 10])\n",
      "torch.Size([7680, 1, 10])\n"
     ]
    }
   ],
   "source": [
    "x = F.relu(conv(x))\n",
    "k_beat = F.relu(conv_k(k_beat))\n",
    "print(x.shape)\n",
    "print(k_beat.shape)"
   ]
  },
  {
   "cell_type": "code",
   "execution_count": 112,
   "metadata": {},
   "outputs": [],
   "source": [
    "att_cnn_dim = 8\n",
    "att = KnowledgeAttn(conv_out_channels, attn_dim=att_cnn_dim)"
   ]
  },
  {
   "cell_type": "code",
   "execution_count": 113,
   "metadata": {},
   "outputs": [
    {
     "name": "stdout",
     "output_type": "stream",
     "text": [
      "torch.Size([7680, 64])\n",
      "torch.Size([7680, 10, 1])\n"
     ]
    }
   ],
   "source": [
    "out, attn = att(x.transpose(1,2), k_beat.transpose(1,2))\n",
    "print(out.shape)\n",
    "print(attn.shape)"
   ]
  },
  {
   "cell_type": "code",
   "execution_count": 114,
   "metadata": {},
   "outputs": [
    {
     "name": "stdout",
     "output_type": "stream",
     "text": [
      "torch.Size([128, 60, 64])\n"
     ]
    }
   ],
   "source": [
    "out = out.view(-1, M, conv_out_channels)\n",
    "print(out.shape)"
   ]
  },
  {
   "cell_type": "code",
   "execution_count": 163,
   "metadata": {},
   "outputs": [],
   "source": [
    "_testm = BeatNet(12 * 34, 34, 56)\n",
    "assert isinstance(_testm.conv, torch.nn.Conv1d) and isinstance(_testm.conv_k, torch.nn.Conv1d), \"Should use nn.Conv1d\"\n",
    "assert _testm.conv.bias.shape == torch.Size([56]) and _testm.conv.weight.shape == torch.Size([56,1,32]), \"conv definition is incorrect\"\n",
    "assert _testm.conv_k.bias.shape == torch.Size([1]) and _testm.conv_k.weight.shape == torch.Size([1, 1, 32]), \"conv_k definition is incorrect\"\n",
    "assert isinstance(_testm.attn, KnowledgeAttn), \"Should use one KnowledgeAttn Module\"\n",
    "\n",
    "_out, _alpha =_testm(torch.randn(37, 12*34), torch.randn(37, 12*34))\n",
    "assert _alpha.shape == torch.Size([444,2,1]), \"The attention's dimension is incorrect\"\n",
    "assert _out.shape==torch.Size([37, 12,56]), \"The output's dimension is incorrect\"\n",
    "del _testm, _out, _alpha"
   ]
  },
  {
   "cell_type": "markdown",
   "metadata": {},
   "source": [
    "### 2.2.2 RhythmNet\n",
    "For Rhythm, the attention $\\beta$ is computed by the following:\n",
    "    $$\\beta = softmax(V_\\beta^\\top \\tanh(W_\\beta^\\top \\begin{bmatrix} \\mathbf{H}\\\\\\mathbf{K}_{rhythm} \\end{bmatrix}))$$\n",
    "Here, $\\mathbf{H}$ is output by the Bi-LSTMs, and $K_{rhythm}$ is the computed rhythm level knowledge features."
   ]
  },
  {
   "cell_type": "code",
   "execution_count": 164,
   "metadata": {},
   "outputs": [],
   "source": [
    "class RhythmNet(nn.Module):\n",
    "    def __init__(self, n=3000, T=50, input_size=64, rhythm_out_size=8):\n",
    "        \"\"\"\n",
    "        :param n: size of each 10-second-data\n",
    "        :param T: size of each smaller segment used to capture local information in the CNN stage\n",
    "        :param input_size: This is the same as the # of filters/kernels in the CNN part.\n",
    "        :param rhythm_out_size: output size of this netowrk\n",
    "        Steps: We will define a network that does two things to handle rhythms. Specifically:\n",
    "            1. use a bi-directional LSTM to process the learned local representations from the CNN part\n",
    "                lstm: bidirectional, 1 layer, batch_first, and hidden_size should be set to *rnn_hidden_size*\n",
    "            2. an attention mechanism to aggregate the convolution outputs. Specifically:\n",
    "                attn: KnowledgeAttn with input_features equaling lstm output, and attn_dim=att_rnn_dim\n",
    "            3. output layers\n",
    "                fc: a Linear layer making the output of shape (..., self.out_size)\n",
    "                do: a Dropout layer with p=0.5\n",
    "        \"\"\"\n",
    "        #input_size is the cnn_out_channels\n",
    "        super(RhythmNet, self).__init__()\n",
    "        self.n, self.M, self.T = n, int(n/T), T\n",
    "        self.input_size = input_size\n",
    "\n",
    "        self.rnn_hidden_size = 32\n",
    "        ### define lstm: LSTM Input is of shape (batch size, M, input_size)\n",
    "        self.lstm = nn.LSTM(input_size=self.input_size, num_layers=1, bidirectional=True, batch_first=True, hidden_size=self.rnn_hidden_size)\n",
    "\n",
    "        ### Attention mechanism: define attn to be a KnowledgeAttn\n",
    "        self.att_rnn_dim = 8\n",
    "        self.attn = KnowledgeAttn(input_features=self.rnn_hidden_size*2, attn_dim=self.att_rnn_dim)\n",
    "\n",
    "        ### Define the Dropout and fully connecte layers (fc and do)\n",
    "        self.out_size = rhythm_out_size\n",
    "        self.fc = nn.Linear(in_features=self.rnn_hidden_size*2, out_features=self.out_size)\n",
    "        self.do = nn.Dropout(p=0.5)\n",
    "        \n",
    "        \n",
    "    def forward(self, x, k_rhythm):\n",
    "        \"\"\"\n",
    "        :param x: shape (batch, M, self.input_size)\n",
    "        :param k_rhythm: shape (batch, M)\n",
    "        :return:\n",
    "            out: shape (batch, self.out_size)\n",
    "            beta: shape (batch, M, 1)\n",
    "        Steps:\n",
    "            reshape the k_rhythm->(batch, M, 1)\n",
    "            pass the reshaped x through lstm\n",
    "            pass the lstm output and knowledge through attn\n",
    "            pass the result through fully connected layer - ReLU - Dropout\n",
    "            denote the final output as *out*, and the attention output as *beta*\n",
    "        \"\"\"\n",
    "\n",
    "        k_rhythm = k_rhythm.unsqueeze(2)\n",
    "        x, _ = self.lstm(x)\n",
    "        out, beta = self.attn(x, k_rhythm)\n",
    "        out = self.do(F.relu(self.fc(out)))\n",
    "\n",
    "        return out, beta"
   ]
  },
  {
   "cell_type": "code",
   "execution_count": 115,
   "metadata": {},
   "outputs": [
    {
     "name": "stdout",
     "output_type": "stream",
     "text": [
      "torch.Size([128, 60, 64])\n",
      "torch.Size([128, 60])\n"
     ]
    }
   ],
   "source": [
    "# try 2.2.2\n",
    "x = out\n",
    "print(x.shape)\n",
    "k_rhythm = K_rhythm[0]\n",
    "print(k_rhythm.shape)"
   ]
  },
  {
   "cell_type": "code",
   "execution_count": 116,
   "metadata": {},
   "outputs": [],
   "source": [
    "n=3000\n",
    "T=50\n",
    "input_size=64\n",
    "rhythm_out_size=8\n",
    "rnn_hidden_size = 32"
   ]
  },
  {
   "cell_type": "code",
   "execution_count": 117,
   "metadata": {},
   "outputs": [
    {
     "name": "stdout",
     "output_type": "stream",
     "text": [
      "torch.Size([128, 60, 1])\n"
     ]
    }
   ],
   "source": [
    "k_rhythm = k_rhythm.unsqueeze(2)\n",
    "print(k_rhythm.shape)"
   ]
  },
  {
   "cell_type": "code",
   "execution_count": 118,
   "metadata": {},
   "outputs": [
    {
     "name": "stdout",
     "output_type": "stream",
     "text": [
      "torch.Size([128, 60, 64])\n"
     ]
    }
   ],
   "source": [
    "lstm = nn.LSTM(input_size=input_size, num_layers=1, bidirectional=True, batch_first=True, hidden_size=rnn_hidden_size)\n",
    "x, _ = lstm(x)\n",
    "print(x.shape)"
   ]
  },
  {
   "cell_type": "code",
   "execution_count": 119,
   "metadata": {},
   "outputs": [
    {
     "name": "stdout",
     "output_type": "stream",
     "text": [
      "torch.Size([128, 64])\n",
      "torch.Size([128, 60, 1])\n"
     ]
    }
   ],
   "source": [
    "att_rnn_dim = 8\n",
    "attn = KnowledgeAttn(64, attn_dim=att_rnn_dim)\n",
    "out, beta = attn(x, k_rhythm)\n",
    "print(out.shape)\n",
    "print(beta.shape)"
   ]
  },
  {
   "cell_type": "code",
   "execution_count": 120,
   "metadata": {},
   "outputs": [
    {
     "name": "stdout",
     "output_type": "stream",
     "text": [
      "torch.Size([8, 64])\n",
      "torch.Size([128, 8])\n"
     ]
    }
   ],
   "source": [
    "fc = nn.Linear(64, rhythm_out_size)\n",
    "do = nn.Dropout(p=0.5)\n",
    "out = do(F.relu(fc(out)))\n",
    "print(fc.weight.shape)\n",
    "print(out.shape)"
   ]
  },
  {
   "cell_type": "code",
   "execution_count": 165,
   "metadata": {},
   "outputs": [],
   "source": [
    "_B, _M, _T = 17, 23, 31\n",
    "_testm = RhythmNet(_M * _T, _T, 37)\n",
    "assert isinstance(_testm.lstm, torch.nn.LSTM), \"Should use nn.LSTM\"\n",
    "assert _testm.lstm.bidirectional, \"LSTM should be bidirectional\"\n",
    "assert isinstance(_testm.attn, KnowledgeAttn), \"Should use one KnowledgeAttn Module\"\n",
    "assert isinstance(_testm.fc, nn.Linear) and _testm.fc.weight.shape == torch.Size([8,64]), \"The fully connected is incorrect\"\n",
    "assert isinstance(_testm.do, nn.Dropout), \"Dropout layer is not defined correctly\"\n",
    "\n",
    "_out, _beta = _testm(torch.randn(_B, _M, 37), torch.randn(_B, _M))\n",
    "assert _beta.shape == torch.Size([_B,_M,1]), \"The attention's dimension is incorrect\"\n",
    "assert _out.shape==torch.Size([_B, 8]), \"The output's dimension is incorrect\"\n",
    "del _testm, _out, _beta,  _B, _M, _T"
   ]
  },
  {
   "cell_type": "code",
   "execution_count": 103,
   "metadata": {},
   "outputs": [
    {
     "data": {
      "text/plain": [
       "torch.Size([8, 64])"
      ]
     },
     "execution_count": 103,
     "metadata": {},
     "output_type": "execute_result"
    }
   ],
   "source": [
    "# exploration\n",
    "_B, _M, _T = 17, 23, 31\n",
    "_testm = RhythmNet(_M * _T, _T, 37)\n",
    "n=_M * _T\n",
    "T=_T\n",
    "input_size=37\n",
    "_testm.fc.weight.shape# == torch.Size([8,64])"
   ]
  },
  {
   "cell_type": "code",
   "execution_count": 104,
   "metadata": {},
   "outputs": [],
   "source": [
    "_out, _beta = _testm(torch.randn(_B, _M, 37), torch.randn(_B, _M))\n",
    "assert _beta.shape == torch.Size([_B,_M,1]), \"The attention's dimension is incorrect\"\n",
    "assert _out.shape==torch.Size([_B, 8]), \"The output's dimension is incorrect\"\n",
    "del _testm, _out, _beta,  _B, _M, _T"
   ]
  },
  {
   "cell_type": "code",
   "execution_count": 105,
   "metadata": {},
   "outputs": [
    {
     "name": "stdout",
     "output_type": "stream",
     "text": [
      "torch.Size([17, 23, 37])\n",
      "torch.Size([17, 23])\n",
      "torch.Size([17, 23, 64])\n",
      "torch.Size([17, 23, 1])\n"
     ]
    }
   ],
   "source": [
    "_B, _M, _T = 17, 23, 31\n",
    "_testm = RhythmNet(_M * _T, _T, 37)\n",
    "n=_M * _T\n",
    "T=_T\n",
    "input_size=37\n",
    "rnn_hidden_size = 32\n",
    "lstm = nn.LSTM(input_size=input_size, num_layers=1, bidirectional=True, batch_first=True, hidden_size=rnn_hidden_size)\n",
    "\n",
    "test_x = torch.randn(_B, _M, 37)\n",
    "test_k = torch.randn(_B, _M)\n",
    "print(test_x.shape)\n",
    "print(test_k.shape)\n",
    "test_k = test_k.unsqueeze(2)\n",
    "test_x, _ = lstm(test_x)\n",
    "print(test_x.shape)\n",
    "print(test_k.shape)\n",
    "#out = self.do(F.relu(self.fc(out)))"
   ]
  },
  {
   "cell_type": "markdown",
   "metadata": {},
   "source": [
    "### 2.2.3 FreqNet\n",
    "The attention $\\gamma$ is computed by the following:\n",
    "    $$\\gamma = softmax(V_\\gamma^\\top \\tanh(W_\\gamma^\\top \\begin{bmatrix} \\mathbf{Q}\\\\\\mathbf{K}_{freq} \\end{bmatrix}))$$\n",
    "Here, $\\mathbf{Q}$ is output of the RhythmNets, and $K_{freq}$ is the computed frequency level knowledge features."
   ]
  },
  {
   "cell_type": "code",
   "execution_count": 176,
   "metadata": {},
   "outputs": [],
   "source": [
    "class FreqNet(nn.Module):\n",
    "    def __init__(self, n_channels=4, n=3000, T=50):\n",
    "        \"\"\"\n",
    "        :param n_channels: number of channels (F in the paper). We will need to define this many BeatNet & RhythmNet nets.\n",
    "        :param n: size of each 10-second-data\n",
    "        :param T: size of each smaller segment used to capture local information in the CNN stage\n",
    "        Steps: This is the main network that orchestrates the previously defined attention modules:\n",
    "            1. define n_channels many BeatNet and RhythmNet modules. (Hint: use nn.ModuleList)\n",
    "                beat_nets: for each beat_net, pass parameter conv_out_channel into the init()\n",
    "                rhythm_nets: for each rhythm_net, pass conv_out_channel as input_size, and self.rhythm_out_size as the output size\n",
    "            2. define frequency (channel) level knowledge-guided attention module\n",
    "                attn: KnowledgeAttn with input_features equaling rhythm_out_size, and attn_dim=att_channel_dim\n",
    "            3. output layer: a Linear layer for 2 classes output\n",
    "        \"\"\"\n",
    "        super(FreqNet, self).__init__()\n",
    "        self.n, self.M, self.T = n, int(n / T), T\n",
    "        self.n_class = 2\n",
    "        self.n_channels = n_channels\n",
    "        self.conv_out_channels=64\n",
    "        self.rhythm_out_size=8\n",
    "\n",
    "        self.beat_nets = nn.ModuleList()\n",
    "        self.rhythm_nets = nn.ModuleList()\n",
    "        \n",
    "        #use self.beat_nets.append() and self.rhythm_nets.append() to append 4 BeatNets/RhythmNets\n",
    "        for _ in range(self.n_channels):\n",
    "            self.beat_nets.append(BeatNet(n, T, conv_out_channel))\n",
    "            self.rhythm_nets.append(RhythmNet(n, T, conv_out_channel, rhythm_out_size))\n",
    "\n",
    "\n",
    "        self.att_channel_dim = 2\n",
    "        ### Add the frequency attention module using KnowledgeAttn (attn)\n",
    "        self.attn = KnowledgeAttn(input_features=self.rhythm_out_size, attn_dim=self.att_channel_dim)\n",
    "\n",
    "        ### Create the fully-connected output layer (fc)\n",
    "        self.fc = nn.Linear(in_features=self.rhythm_out_size, out_features=self.n_class)  \n",
    "\n",
    "\n",
    "    def forward(self, x, k_beats, k_rhythms, k_freq):\n",
    "        \"\"\"\n",
    "        We need to use the attention submodules to process data from each channel separately, and then pass the\n",
    "            output through an attention on frequency for the final output\n",
    "\n",
    "        :param x: shape (n_channels, batch, n)\n",
    "        :param k_beats: (n_channels, batch, n)\n",
    "        :param k_rhythms: (n_channels, batch, M)\n",
    "        :param k_freq: (n_channels, batch, 1)\n",
    "        :return:\n",
    "            out: softmax output for each data point, shpae (batch, n_class)\n",
    "            gama: the attention value on channels\n",
    "        Steps:\n",
    "            1. [Given] pass each channel of x through the corresponding beat_net, then rhythm_net.\n",
    "                We will discard the attention (alpha and beta) outputs for now\n",
    "                Using ModuleList for self.beat_nets/rhythm_nets is necessary for the gradient to propagate\n",
    "            2. [Given] stack the output from 1 together into a tensor of shape (batch, n_channels, rhythm_out_size)\n",
    "            3. pass result from 2 and k_freq through attention module, to get the aggregated result and *gama*\n",
    "                You might need to do use k_freq.permute() to tweak the shape of k_freq\n",
    "            4. pass aggregated result from 3 through the final fully connected layer.\n",
    "            5. Apply Softmax to normalize output to a probability distribution (over 2 classes)\n",
    "        \"\"\"\n",
    "        new_x = [None for _ in range(self.n_channels)]\n",
    "        for i in range(self.n_channels):\n",
    "            tx, _ = self.beat_nets[i](x[i], k_beats[i])\n",
    "            new_x[i], _ = self.rhythm_nets[i](tx, k_rhythms[i])\n",
    "        x = torch.stack(new_x, 1) \n",
    "\n",
    "        out, gama = self.attn(x, k_freq.transpose(0,1))\n",
    "        out = F.softmax(self.fc(out), dim=1)\n",
    "\n",
    "        return out, gama"
   ]
  },
  {
   "cell_type": "code",
   "execution_count": 138,
   "metadata": {},
   "outputs": [
    {
     "name": "stdout",
     "output_type": "stream",
     "text": [
      "torch.Size([4, 128, 3000])\n",
      "torch.Size([128])\n",
      "torch.Size([4, 128, 3000])\n",
      "torch.Size([4, 128, 60])\n",
      "torch.Size([4, 128, 1])\n",
      "torch.Size([128, 4, 8])\n"
     ]
    }
   ],
   "source": [
    "# try 2.2.3\n",
    "\n",
    "loader_iter = iter(train_loader)\n",
    "(X, K_beat, K_rhythm, K_freq), Y = next(loader_iter)\n",
    "print(X.shape)\n",
    "print(Y.shape)\n",
    "print(K_beat.shape)\n",
    "print(K_rhythm.shape)\n",
    "print(K_freq.shape)\n",
    "\n",
    "n_channels=4\n",
    "n=3000\n",
    "T=50\n",
    "M= int(n / T)\n",
    "n_class = 2\n",
    "conv_out_channel=64\n",
    "rhythm_out_size=8\n",
    "\n",
    "beat_nets = nn.ModuleList([BeatNet(n, T, conv_out_channel)]*n_channels)\n",
    "rhythm_nets = nn.ModuleList([RhythmNet(n, T, conv_out_channel, rhythm_out_size)]*n_channels)\n",
    "\n",
    "new_x = [None for _ in range(n_channels)]\n",
    "for i in range(n_channels):\n",
    "    #tx, _ = beat_nets[i](X[i].contiguous(), K_beat[i].contiguous())\n",
    "    tx, _ = beat_nets[i](X[i], K_beat[i])\n",
    "    new_x[i], _ = rhythm_nets[i](tx, K_rhythm[i])\n",
    "x = torch.stack(new_x, 1)  # shape (batch, n_channels, rhythm_out_size)\n",
    "print(x.shape)\n"
   ]
  },
  {
   "cell_type": "code",
   "execution_count": 139,
   "metadata": {},
   "outputs": [
    {
     "name": "stdout",
     "output_type": "stream",
     "text": [
      "torch.Size([128, 8])\n",
      "torch.Size([128, 4, 1])\n"
     ]
    }
   ],
   "source": [
    "# 3. pass result from 2 and k_freq through attention module, to get the aggregated result and *gama*\n",
    "#     You might need to do use k_freq.permute() to tweak the shape of k_freq\n",
    "att_channel_dim = 2\n",
    "attn = KnowledgeAttn(input_features=rhythm_out_size, attn_dim=att_channel_dim)\n",
    "out, gama = attn(x, K_freq.transpose(0,1))\n",
    "print(out.shape)\n",
    "print(gama.shape)"
   ]
  },
  {
   "cell_type": "code",
   "execution_count": 140,
   "metadata": {},
   "outputs": [
    {
     "name": "stdout",
     "output_type": "stream",
     "text": [
      "torch.Size([128, 2])\n"
     ]
    }
   ],
   "source": [
    "# 4. pass aggregated result from 3 through the final fully connected layer.\n",
    "# 5. Apply Softmax to normalize output to a probability distribution (over 2 classes)\n",
    "fc = nn.Linear(in_features=rhythm_out_size, out_features=n_class) \n",
    "out = F.softmax(fc(out), dim=1)\n",
    "print(out.shape)"
   ]
  },
  {
   "cell_type": "code",
   "execution_count": 177,
   "metadata": {},
   "outputs": [],
   "source": [
    "_B, _M, _T = 17, 59, 109\n",
    "_testm = FreqNet(n=_M * _T, T=_T)\n",
    "assert isinstance(_testm.attn, KnowledgeAttn), \"Should use one KnowledgeAttn Module\"\n",
    "assert isinstance(_testm.fc, nn.Linear) and _testm.fc.weight.shape == torch.Size([2,8]), \"The fully connected is incorrect\"\n",
    "assert isinstance(_testm.beat_nets, nn.ModuleList), \"beat_nets has to be a ModuleList\"\n",
    "\n",
    "_out, _gamma = _testm(torch.randn(4, _B, _M * _T), torch.randn(4, _B, _M * _T), torch.randn(4, _B, _M), torch.randn(4, _B, 1))\n",
    "assert _gamma.shape == torch.Size([_B, 4, 1]), \"The attention's dimension is incorrect\"\n",
    "assert _out.shape==torch.Size([_B, 2]), \"The output's dimension is incorrect\"\n",
    "del _testm, _out, _gamma,  _B, _M, _T"
   ]
  },
  {
   "cell_type": "markdown",
   "metadata": {},
   "source": [
    "# 3 Training and Evaluation\n",
    "In this part we will define the training procedures, train the model, and evaluate the model on the test set."
   ]
  },
  {
   "cell_type": "code",
   "execution_count": 172,
   "metadata": {},
   "outputs": [],
   "source": [
    "def train_model(model, train_dataloader, n_epoch=5, lr=0.003, device=None):\n",
    "    import torch.optim as optim\n",
    "    \"\"\"\n",
    "    :param model: The instance of FreqNet that we are training\n",
    "    :param train_dataloader: the DataLoader of the training data\n",
    "    :param n_epoch: number of epochs to train\n",
    "    :return:\n",
    "        model: trained model\n",
    "        loss_history: recorded training loss history - should be just a list of float\n",
    "    Steps:\n",
    "        Specify the optimizer (*optimizer*) to be optim.Adam\n",
    "        Specify the loss function (*loss_func*) to be CrossEntropyLoss\n",
    "        Within the loop, do the normal training procedures:\n",
    "            pass the input through the model\n",
    "            pass the output through loss_func to compute the loss\n",
    "            zero out currently accumulated gradient, use loss.basckward to backprop the gradients, then call optimizer.step\n",
    "    \"\"\"\n",
    "    device = device or torch.device('cpu')\n",
    "    model.train()\n",
    "\n",
    "    loss_history = []\n",
    "\n",
    "    # your code here\n",
    "    optimizer = optim.Adam(model.parameters(), lr=lr)\n",
    "    loss_func = nn.CrossEntropyLoss()\n",
    "    # raise NotImplementedError\n",
    "\n",
    "    for epoch in range(n_epoch):\n",
    "        curr_epoch_loss = []\n",
    "        for (X, K_beat, K_rhythm, K_freq), Y in train_dataloader:\n",
    "            # your code here\n",
    "            optimizer.zero_grad()\n",
    "            y_hat, _ = model(X, K_beat, K_rhythm, K_freq)\n",
    "            loss = loss_func(y_hat, Y)\n",
    "            loss.backward()\n",
    "            optimizer.step()                        \n",
    "            # raise NotImplementedError\n",
    "            curr_epoch_loss.append(loss.cpu().data.numpy())\n",
    "        print(f\"epoch{epoch}: curr_epoch_loss={np.mean(curr_epoch_loss)}\")\n",
    "        loss_history += curr_epoch_loss\n",
    "    return model, loss_history\n",
    "\n",
    "def eval_model(model, dataloader, device=None):\n",
    "    \"\"\"\n",
    "    :return:\n",
    "        pred_all: prediction of model on the dataloder.\n",
    "            Should be an 2D numpy float array where the second dimension has length 2.\n",
    "        Y_test: truth labels. Should be an numpy array of ints\n",
    "    TODO:\n",
    "        evaluate the model using on the data in the dataloder.\n",
    "        Add all the prediction and truth to the corresponding list\n",
    "        Convert pred_all and Y_test to numpy arrays (of shape (n_data_points, 2))\n",
    "    \"\"\"\n",
    "    device = device or torch.device('cpu')\n",
    "    model.eval()\n",
    "    pred_all = []\n",
    "    Y_test = []\n",
    "    for (X, K_beat, K_rhythm, K_freq), Y in dataloader:\n",
    "        # your code here\n",
    "        y_hat, _ = model(X, K_beat, K_rhythm, K_freq)\n",
    "        pred_all.append(y_hat.detach().numpy())\n",
    "        Y_test.append(Y)\n",
    "        # raise NotImplementedError\n",
    "    pred_all = np.concatenate(pred_all, axis=0)\n",
    "    Y_test = np.concatenate(Y_test, axis=0)\n",
    "\n",
    "    return pred_all, Y_test"
   ]
  },
  {
   "cell_type": "code",
   "execution_count": 132,
   "metadata": {},
   "outputs": [
    {
     "data": {
      "text/plain": [
       "tensor([[0.5386, 0.4614],\n",
       "        [0.5399, 0.4601],\n",
       "        [0.5303, 0.4697],\n",
       "        [0.5342, 0.4658],\n",
       "        [0.5251, 0.4749],\n",
       "        [0.5348, 0.4652],\n",
       "        [0.5298, 0.4702],\n",
       "        [0.5361, 0.4639],\n",
       "        [0.5379, 0.4621],\n",
       "        [0.5390, 0.4610],\n",
       "        [0.5416, 0.4584],\n",
       "        [0.5320, 0.4680],\n",
       "        [0.5447, 0.4553],\n",
       "        [0.5360, 0.4640],\n",
       "        [0.5387, 0.4613],\n",
       "        [0.5328, 0.4672],\n",
       "        [0.5432, 0.4568],\n",
       "        [0.5353, 0.4647],\n",
       "        [0.5306, 0.4694],\n",
       "        [0.5309, 0.4691],\n",
       "        [0.5337, 0.4663],\n",
       "        [0.5380, 0.4620],\n",
       "        [0.5355, 0.4645],\n",
       "        [0.5348, 0.4652],\n",
       "        [0.5321, 0.4679],\n",
       "        [0.5306, 0.4694],\n",
       "        [0.5327, 0.4673],\n",
       "        [0.5245, 0.4755],\n",
       "        [0.5369, 0.4631],\n",
       "        [0.5227, 0.4773],\n",
       "        [0.5372, 0.4628],\n",
       "        [0.5358, 0.4642],\n",
       "        [0.5298, 0.4702],\n",
       "        [0.5321, 0.4679],\n",
       "        [0.5351, 0.4649],\n",
       "        [0.5457, 0.4543],\n",
       "        [0.5315, 0.4685],\n",
       "        [0.5354, 0.4646],\n",
       "        [0.5271, 0.4729],\n",
       "        [0.5360, 0.4640],\n",
       "        [0.5253, 0.4747],\n",
       "        [0.5334, 0.4666],\n",
       "        [0.5270, 0.4730],\n",
       "        [0.5428, 0.4572],\n",
       "        [0.5309, 0.4691],\n",
       "        [0.5283, 0.4717],\n",
       "        [0.5397, 0.4603],\n",
       "        [0.5312, 0.4688],\n",
       "        [0.5320, 0.4680],\n",
       "        [0.5387, 0.4613],\n",
       "        [0.5466, 0.4534],\n",
       "        [0.5425, 0.4575],\n",
       "        [0.5314, 0.4686],\n",
       "        [0.5358, 0.4642],\n",
       "        [0.5326, 0.4674],\n",
       "        [0.5326, 0.4674],\n",
       "        [0.5266, 0.4734],\n",
       "        [0.5291, 0.4709],\n",
       "        [0.5319, 0.4681],\n",
       "        [0.5278, 0.4722],\n",
       "        [0.5361, 0.4639],\n",
       "        [0.5400, 0.4600],\n",
       "        [0.5463, 0.4537],\n",
       "        [0.5349, 0.4651],\n",
       "        [0.5337, 0.4663],\n",
       "        [0.5331, 0.4669],\n",
       "        [0.5365, 0.4635],\n",
       "        [0.5283, 0.4717],\n",
       "        [0.5293, 0.4707],\n",
       "        [0.5298, 0.4702],\n",
       "        [0.5330, 0.4670],\n",
       "        [0.5353, 0.4647],\n",
       "        [0.5408, 0.4592],\n",
       "        [0.5362, 0.4638],\n",
       "        [0.5304, 0.4696],\n",
       "        [0.5321, 0.4679],\n",
       "        [0.5320, 0.4680],\n",
       "        [0.5410, 0.4590],\n",
       "        [0.5334, 0.4666],\n",
       "        [0.5347, 0.4653],\n",
       "        [0.5323, 0.4677],\n",
       "        [0.5380, 0.4620],\n",
       "        [0.5364, 0.4636],\n",
       "        [0.5372, 0.4628],\n",
       "        [0.5407, 0.4593],\n",
       "        [0.5441, 0.4559],\n",
       "        [0.5240, 0.4760],\n",
       "        [0.5382, 0.4618],\n",
       "        [0.5391, 0.4609],\n",
       "        [0.5260, 0.4740],\n",
       "        [0.5343, 0.4657],\n",
       "        [0.5360, 0.4640],\n",
       "        [0.5349, 0.4651],\n",
       "        [0.5234, 0.4766],\n",
       "        [0.5296, 0.4704],\n",
       "        [0.5279, 0.4721],\n",
       "        [0.5368, 0.4632],\n",
       "        [0.5350, 0.4650],\n",
       "        [0.5420, 0.4580],\n",
       "        [0.5329, 0.4671],\n",
       "        [0.5358, 0.4642],\n",
       "        [0.5339, 0.4661],\n",
       "        [0.5329, 0.4671],\n",
       "        [0.5314, 0.4686],\n",
       "        [0.5320, 0.4680],\n",
       "        [0.5294, 0.4706],\n",
       "        [0.5239, 0.4761],\n",
       "        [0.5332, 0.4668],\n",
       "        [0.5423, 0.4577],\n",
       "        [0.5255, 0.4745],\n",
       "        [0.5291, 0.4709],\n",
       "        [0.5242, 0.4758],\n",
       "        [0.5318, 0.4682],\n",
       "        [0.5289, 0.4711],\n",
       "        [0.5319, 0.4681],\n",
       "        [0.5358, 0.4642],\n",
       "        [0.5365, 0.4635],\n",
       "        [0.5358, 0.4642],\n",
       "        [0.5264, 0.4736],\n",
       "        [0.5404, 0.4596],\n",
       "        [0.5331, 0.4669],\n",
       "        [0.5336, 0.4664],\n",
       "        [0.5423, 0.4577],\n",
       "        [0.5376, 0.4624],\n",
       "        [0.5327, 0.4673],\n",
       "        [0.5356, 0.4644],\n",
       "        [0.5449, 0.4551],\n",
       "        [0.5269, 0.4731]], grad_fn=<SoftmaxBackward0>)"
      ]
     },
     "execution_count": 132,
     "metadata": {},
     "output_type": "execute_result"
    }
   ],
   "source": [
    "out"
   ]
  },
  {
   "cell_type": "code",
   "execution_count": 133,
   "metadata": {},
   "outputs": [
    {
     "data": {
      "text/plain": [
       "tensor([0.4614, 0.4601, 0.4697, 0.4658, 0.4749, 0.4652, 0.4702, 0.4639, 0.4621,\n",
       "        0.4610, 0.4584, 0.4680, 0.4553, 0.4640, 0.4613, 0.4672, 0.4568, 0.4647,\n",
       "        0.4694, 0.4691, 0.4663, 0.4620, 0.4645, 0.4652, 0.4679, 0.4694, 0.4673,\n",
       "        0.4755, 0.4631, 0.4773, 0.4628, 0.4642, 0.4702, 0.4679, 0.4649, 0.4543,\n",
       "        0.4685, 0.4646, 0.4729, 0.4640, 0.4747, 0.4666, 0.4730, 0.4572, 0.4691,\n",
       "        0.4717, 0.4603, 0.4688, 0.4680, 0.4613, 0.4534, 0.4575, 0.4686, 0.4642,\n",
       "        0.4674, 0.4674, 0.4734, 0.4709, 0.4681, 0.4722, 0.4639, 0.4600, 0.4537,\n",
       "        0.4651, 0.4663, 0.4669, 0.4635, 0.4717, 0.4707, 0.4702, 0.4670, 0.4647,\n",
       "        0.4592, 0.4638, 0.4696, 0.4679, 0.4680, 0.4590, 0.4666, 0.4653, 0.4677,\n",
       "        0.4620, 0.4636, 0.4628, 0.4593, 0.4559, 0.4760, 0.4618, 0.4609, 0.4740,\n",
       "        0.4657, 0.4640, 0.4651, 0.4766, 0.4704, 0.4721, 0.4632, 0.4650, 0.4580,\n",
       "        0.4671, 0.4642, 0.4661, 0.4671, 0.4686, 0.4680, 0.4706, 0.4761, 0.4668,\n",
       "        0.4577, 0.4745, 0.4709, 0.4758, 0.4682, 0.4711, 0.4681, 0.4642, 0.4635,\n",
       "        0.4642, 0.4736, 0.4596, 0.4669, 0.4664, 0.4577, 0.4624, 0.4673, 0.4644,\n",
       "        0.4551, 0.4731], grad_fn=<SelectBackward0>)"
      ]
     },
     "execution_count": 133,
     "metadata": {},
     "output_type": "execute_result"
    }
   ],
   "source": [
    "out[:,1]"
   ]
  },
  {
   "cell_type": "code",
   "execution_count": null,
   "metadata": {},
   "outputs": [],
   "source": []
  },
  {
   "cell_type": "code",
   "execution_count": 173,
   "metadata": {},
   "outputs": [
    {
     "name": "stdout",
     "output_type": "stream",
     "text": [
      "epoch0: curr_epoch_loss=0.6938453316688538\n",
      "epoch1: curr_epoch_loss=0.6530133485794067\n",
      "epoch2: curr_epoch_loss=0.5634876489639282\n",
      "epoch3: curr_epoch_loss=0.5047913193702698\n"
     ]
    }
   ],
   "source": [
    "device = torch.device('cpu')\n",
    "n_epoch = 4\n",
    "lr = 0.003\n",
    "n_channel = 4\n",
    "n_dim=3000\n",
    "T=50\n",
    "\n",
    "model = FreqNet(n_channel, n_dim, T)\n",
    "model = model.to(device)\n",
    "\n",
    "model, loss_history = train_model(model, train_loader, n_epoch=n_epoch, lr=lr, device=device)\n",
    "pred, truth = eval_model(model, test_loader, device=device)\n",
    "#pd.to_pickle((pred, truth), \"./deliverable.pkl\")"
   ]
  },
  {
   "cell_type": "code",
   "execution_count": 154,
   "metadata": {},
   "outputs": [
    {
     "data": {
      "text/plain": [
       "array([[0.4815316 , 0.51846844],\n",
       "       [0.3961958 , 0.6038043 ],\n",
       "       [0.42789656, 0.5721035 ],\n",
       "       [0.40555933, 0.59444064],\n",
       "       [0.39976516, 0.6002349 ],\n",
       "       [0.39584902, 0.60415095],\n",
       "       [0.44617122, 0.55382884],\n",
       "       [0.40487388, 0.5951261 ],\n",
       "       [0.40420148, 0.59579855],\n",
       "       [0.40179858, 0.59820145],\n",
       "       [0.41622755, 0.5837724 ],\n",
       "       [0.4386548 , 0.5613452 ],\n",
       "       [0.40757766, 0.59242237],\n",
       "       [0.4035367 , 0.5964633 ],\n",
       "       [0.40318662, 0.5968134 ],\n",
       "       [0.40344015, 0.5965599 ],\n",
       "       [0.39568657, 0.60431343],\n",
       "       [0.39402115, 0.60597885],\n",
       "       [0.41545358, 0.5845464 ],\n",
       "       [0.38942513, 0.61057484],\n",
       "       [0.4073527 , 0.5926474 ],\n",
       "       [0.39171174, 0.6082883 ],\n",
       "       [0.3933879 , 0.6066121 ],\n",
       "       [0.39287063, 0.60712934],\n",
       "       [0.4291128 , 0.57088727],\n",
       "       [0.38944063, 0.6105594 ],\n",
       "       [0.43307915, 0.5669209 ],\n",
       "       [0.39747265, 0.6025273 ],\n",
       "       [0.41073215, 0.58926785],\n",
       "       [0.41249874, 0.5875012 ],\n",
       "       [0.4060877 , 0.59391224],\n",
       "       [0.40701914, 0.59298086],\n",
       "       [0.40547115, 0.59452885],\n",
       "       [0.4144881 , 0.5855119 ],\n",
       "       [0.40908048, 0.5909195 ],\n",
       "       [0.403181  , 0.59681904],\n",
       "       [0.3939322 , 0.6060678 ],\n",
       "       [0.3957696 , 0.6042304 ],\n",
       "       [0.40862167, 0.59137833],\n",
       "       [0.4301194 , 0.5698806 ],\n",
       "       [0.40839827, 0.59160167],\n",
       "       [0.42733264, 0.57266736],\n",
       "       [0.3860786 , 0.6139214 ],\n",
       "       [0.386942  , 0.613058  ],\n",
       "       [0.40079647, 0.5992036 ],\n",
       "       [0.40861523, 0.5913847 ],\n",
       "       [0.44640967, 0.5535903 ],\n",
       "       [0.3912377 , 0.60876226],\n",
       "       [0.38992515, 0.6100749 ],\n",
       "       [0.40168124, 0.5983187 ],\n",
       "       [0.40552077, 0.59447926],\n",
       "       [0.40356863, 0.5964314 ],\n",
       "       [0.4378426 , 0.5621574 ],\n",
       "       [0.41553342, 0.5844666 ],\n",
       "       [0.42021206, 0.57978797],\n",
       "       [0.4708075 , 0.52919257],\n",
       "       [0.4282046 , 0.5717954 ],\n",
       "       [0.40780717, 0.5921928 ],\n",
       "       [0.3879199 , 0.6120801 ],\n",
       "       [0.4047034 , 0.59529656],\n",
       "       [0.38848972, 0.6115102 ],\n",
       "       [0.41305503, 0.58694494],\n",
       "       [0.4424033 , 0.55759674],\n",
       "       [0.4048059 , 0.59519404],\n",
       "       [0.408703  , 0.59129703],\n",
       "       [0.44147995, 0.55852   ],\n",
       "       [0.39293388, 0.60706615],\n",
       "       [0.42578712, 0.57421285],\n",
       "       [0.3924115 , 0.60758847],\n",
       "       [0.4175785 , 0.5824215 ],\n",
       "       [0.4111185 , 0.58888155],\n",
       "       [0.4142168 , 0.58578324],\n",
       "       [0.4013182 , 0.59868175],\n",
       "       [0.38770935, 0.6122907 ],\n",
       "       [0.4094146 , 0.59058535],\n",
       "       [0.5199051 , 0.48009488],\n",
       "       [0.4548968 , 0.5451032 ],\n",
       "       [0.40158293, 0.59841704],\n",
       "       [0.39058286, 0.60941714],\n",
       "       [0.43733653, 0.5626635 ],\n",
       "       [0.38848475, 0.6115153 ],\n",
       "       [0.3925766 , 0.60742337],\n",
       "       [0.4024633 , 0.5975367 ],\n",
       "       [0.4351532 , 0.5648468 ],\n",
       "       [0.42042586, 0.57957417],\n",
       "       [0.39918193, 0.6008181 ],\n",
       "       [0.38320413, 0.61679584],\n",
       "       [0.3932181 , 0.6067819 ],\n",
       "       [0.45299706, 0.547003  ],\n",
       "       [0.39295763, 0.6070424 ],\n",
       "       [0.40295655, 0.5970435 ],\n",
       "       [0.3901366 , 0.6098634 ],\n",
       "       [0.45823184, 0.54176813],\n",
       "       [0.4067961 , 0.5932039 ],\n",
       "       [0.3975722 , 0.60242784],\n",
       "       [0.40208638, 0.5979136 ],\n",
       "       [0.44518754, 0.5548125 ],\n",
       "       [0.4079932 , 0.59200674],\n",
       "       [0.42908582, 0.57091415],\n",
       "       [0.44446042, 0.55553955],\n",
       "       [0.38910666, 0.61089337],\n",
       "       [0.4019863 , 0.59801364],\n",
       "       [0.39982012, 0.60017985],\n",
       "       [0.4009985 , 0.59900147],\n",
       "       [0.40870935, 0.59129065],\n",
       "       [0.39188355, 0.60811645],\n",
       "       [0.40813628, 0.5918637 ],\n",
       "       [0.4185902 , 0.5814098 ],\n",
       "       [0.40141326, 0.59858674],\n",
       "       [0.42461032, 0.5753896 ],\n",
       "       [0.39012074, 0.60987926],\n",
       "       [0.39895517, 0.6010448 ],\n",
       "       [0.39848244, 0.6015175 ],\n",
       "       [0.4407435 , 0.55925655],\n",
       "       [0.39236367, 0.60763633],\n",
       "       [0.45028338, 0.5497166 ],\n",
       "       [0.3879095 , 0.61209047],\n",
       "       [0.41964272, 0.58035725],\n",
       "       [0.38980773, 0.61019224],\n",
       "       [0.4062109 , 0.5937891 ],\n",
       "       [0.39983848, 0.60016143],\n",
       "       [0.44281018, 0.55718976],\n",
       "       [0.42440215, 0.5755978 ],\n",
       "       [0.44161043, 0.5583896 ],\n",
       "       [0.40714404, 0.59285605],\n",
       "       [0.40908754, 0.5909125 ],\n",
       "       [0.40491822, 0.5950818 ],\n",
       "       [0.41551352, 0.58448654],\n",
       "       [0.4042421 , 0.59575784],\n",
       "       [0.3880559 , 0.6119441 ],\n",
       "       [0.389809  , 0.610191  ],\n",
       "       [0.40077975, 0.5992202 ],\n",
       "       [0.42230642, 0.5776936 ],\n",
       "       [0.39857984, 0.6014201 ],\n",
       "       [0.45275006, 0.5472499 ],\n",
       "       [0.4041325 , 0.59586746],\n",
       "       [0.39473012, 0.60526985],\n",
       "       [0.3828135 , 0.6171865 ],\n",
       "       [0.40162927, 0.59837073],\n",
       "       [0.40472072, 0.5952793 ],\n",
       "       [0.40420136, 0.5957987 ],\n",
       "       [0.40170372, 0.5982963 ],\n",
       "       [0.40932858, 0.5906714 ],\n",
       "       [0.3884063 , 0.61159366],\n",
       "       [0.40017322, 0.59982675],\n",
       "       [0.43445605, 0.56554395],\n",
       "       [0.3901625 , 0.60983753],\n",
       "       [0.41439995, 0.5856    ],\n",
       "       [0.4286086 , 0.5713914 ],\n",
       "       [0.40183267, 0.59816736],\n",
       "       [0.4153561 , 0.5846439 ],\n",
       "       [0.4321706 , 0.5678294 ],\n",
       "       [0.3984795 , 0.6015204 ],\n",
       "       [0.4007591 , 0.5992409 ],\n",
       "       [0.4082946 , 0.5917054 ],\n",
       "       [0.40980506, 0.59019494],\n",
       "       [0.39185417, 0.60814583],\n",
       "       [0.41265407, 0.58734596],\n",
       "       [0.4219495 , 0.5780505 ],\n",
       "       [0.4237897 , 0.5762103 ],\n",
       "       [0.4022447 , 0.5977554 ],\n",
       "       [0.39863476, 0.60136527],\n",
       "       [0.38725576, 0.6127443 ],\n",
       "       [0.44122237, 0.55877763],\n",
       "       [0.4355579 , 0.56444216],\n",
       "       [0.41607833, 0.5839217 ],\n",
       "       [0.40419364, 0.59580636],\n",
       "       [0.41894975, 0.5810503 ],\n",
       "       [0.39488012, 0.6051199 ],\n",
       "       [0.3984658 , 0.6015342 ],\n",
       "       [0.3856345 , 0.6143655 ],\n",
       "       [0.38868108, 0.61131895],\n",
       "       [0.4380697 , 0.56193024],\n",
       "       [0.40705752, 0.5929424 ],\n",
       "       [0.3944537 , 0.60554636],\n",
       "       [0.4103311 , 0.58966887],\n",
       "       [0.40143025, 0.59856975],\n",
       "       [0.3947684 , 0.6052316 ],\n",
       "       [0.40262568, 0.5973743 ],\n",
       "       [0.45530367, 0.54469633],\n",
       "       [0.41652676, 0.5834732 ],\n",
       "       [0.3931782 , 0.6068218 ],\n",
       "       [0.42368594, 0.5763141 ],\n",
       "       [0.40278912, 0.5972109 ],\n",
       "       [0.4457356 , 0.55426437],\n",
       "       [0.39909106, 0.60090894],\n",
       "       [0.40745574, 0.5925443 ],\n",
       "       [0.39163962, 0.60836035],\n",
       "       [0.39817634, 0.6018236 ],\n",
       "       [0.43130425, 0.5686957 ],\n",
       "       [0.4061748 , 0.5938252 ],\n",
       "       [0.4032974 , 0.5967026 ],\n",
       "       [0.39884248, 0.60115755],\n",
       "       [0.38854405, 0.6114559 ],\n",
       "       [0.4012825 , 0.5987175 ],\n",
       "       [0.39287776, 0.60712224],\n",
       "       [0.3980907 , 0.60190934],\n",
       "       [0.4061112 , 0.5938888 ],\n",
       "       [0.4005535 , 0.5994465 ],\n",
       "       [0.42757818, 0.5724218 ],\n",
       "       [0.39327314, 0.6067269 ],\n",
       "       [0.39365223, 0.6063478 ],\n",
       "       [0.38658273, 0.6134172 ],\n",
       "       [0.41021055, 0.58978945],\n",
       "       [0.40021062, 0.5997894 ],\n",
       "       [0.41485253, 0.5851475 ],\n",
       "       [0.40161046, 0.59838957],\n",
       "       [0.45050266, 0.5494973 ],\n",
       "       [0.39864042, 0.60135955],\n",
       "       [0.40997586, 0.5900241 ],\n",
       "       [0.4462419 , 0.5537581 ],\n",
       "       [0.42351407, 0.57648593],\n",
       "       [0.42134878, 0.57865125],\n",
       "       [0.39819002, 0.60181   ],\n",
       "       [0.38919136, 0.61080855],\n",
       "       [0.40175992, 0.5982401 ],\n",
       "       [0.40893498, 0.591065  ],\n",
       "       [0.40139133, 0.5986087 ],\n",
       "       [0.40099463, 0.5990054 ],\n",
       "       [0.38960245, 0.6103975 ],\n",
       "       [0.40964055, 0.59035945],\n",
       "       [0.40806088, 0.59193915],\n",
       "       [0.3844564 , 0.61554366],\n",
       "       [0.42346197, 0.5765381 ],\n",
       "       [0.4234742 , 0.57652575],\n",
       "       [0.46980318, 0.53019685],\n",
       "       [0.38944128, 0.61055875],\n",
       "       [0.42296138, 0.5770386 ],\n",
       "       [0.40133917, 0.5986608 ],\n",
       "       [0.39942527, 0.60057473],\n",
       "       [0.40232518, 0.5976748 ],\n",
       "       [0.41303453, 0.58696544],\n",
       "       [0.49005017, 0.5099498 ],\n",
       "       [0.4225858 , 0.57741416],\n",
       "       [0.4016247 , 0.5983753 ],\n",
       "       [0.41368783, 0.5863121 ],\n",
       "       [0.3925284 , 0.6074716 ],\n",
       "       [0.40513197, 0.59486806],\n",
       "       [0.41292062, 0.58707935],\n",
       "       [0.45837677, 0.54162323],\n",
       "       [0.41507715, 0.58492285],\n",
       "       [0.41662788, 0.58337206],\n",
       "       [0.41877466, 0.58122534],\n",
       "       [0.4082599 , 0.5917401 ],\n",
       "       [0.43138415, 0.56861585],\n",
       "       [0.39925292, 0.60074705],\n",
       "       [0.43867156, 0.56132835],\n",
       "       [0.4250485 , 0.5749515 ],\n",
       "       [0.39265645, 0.6073435 ],\n",
       "       [0.3918617 , 0.60813826],\n",
       "       [0.3901727 , 0.6098273 ],\n",
       "       [0.3943775 , 0.6056225 ],\n",
       "       [0.40637177, 0.5936282 ],\n",
       "       [0.39952195, 0.6004781 ],\n",
       "       [0.39941052, 0.60058945],\n",
       "       [0.38789833, 0.6121017 ],\n",
       "       [0.41421157, 0.58578837],\n",
       "       [0.39868245, 0.6013176 ],\n",
       "       [0.39862284, 0.6013771 ],\n",
       "       [0.4023846 , 0.5976154 ],\n",
       "       [0.38882592, 0.6111741 ],\n",
       "       [0.38880482, 0.61119515],\n",
       "       [0.4178928 , 0.58210725],\n",
       "       [0.38846484, 0.6115351 ],\n",
       "       [0.4054188 , 0.5945812 ],\n",
       "       [0.4046642 , 0.59533584],\n",
       "       [0.4023023 , 0.5976977 ],\n",
       "       [0.38972044, 0.6102795 ],\n",
       "       [0.42069623, 0.57930386],\n",
       "       [0.40448704, 0.5955129 ],\n",
       "       [0.3872169 , 0.6127831 ],\n",
       "       [0.4055434 , 0.5944566 ],\n",
       "       [0.40886265, 0.5911373 ],\n",
       "       [0.40731928, 0.5926807 ],\n",
       "       [0.46596524, 0.5340348 ],\n",
       "       [0.39384422, 0.60615575],\n",
       "       [0.39090803, 0.60909194],\n",
       "       [0.43863907, 0.5613609 ],\n",
       "       [0.41016376, 0.5898362 ],\n",
       "       [0.3845403 , 0.61545974],\n",
       "       [0.45736042, 0.5426396 ],\n",
       "       [0.43322882, 0.5667712 ],\n",
       "       [0.39225394, 0.60774606],\n",
       "       [0.41108948, 0.58891046],\n",
       "       [0.40591255, 0.5940874 ],\n",
       "       [0.38527316, 0.61472684],\n",
       "       [0.4243157 , 0.5756843 ],\n",
       "       [0.39311975, 0.60688025],\n",
       "       [0.44461867, 0.5553813 ],\n",
       "       [0.39775637, 0.6022436 ],\n",
       "       [0.41792312, 0.5820769 ],\n",
       "       [0.38895273, 0.6110472 ],\n",
       "       [0.4374494 , 0.5625506 ],\n",
       "       [0.389909  , 0.610091  ],\n",
       "       [0.40508133, 0.5949186 ],\n",
       "       [0.4166602 , 0.58333975],\n",
       "       [0.4493799 , 0.5506202 ],\n",
       "       [0.4339597 , 0.5660403 ],\n",
       "       [0.38719514, 0.6128049 ],\n",
       "       [0.39949816, 0.60050184],\n",
       "       [0.39447644, 0.6055235 ],\n",
       "       [0.39319143, 0.6068086 ],\n",
       "       [0.40227577, 0.5977242 ],\n",
       "       [0.4389007 , 0.5610993 ],\n",
       "       [0.3907863 , 0.6092137 ],\n",
       "       [0.4087242 , 0.5912758 ],\n",
       "       [0.42973292, 0.5702671 ],\n",
       "       [0.39162627, 0.6083737 ],\n",
       "       [0.39599237, 0.60400766],\n",
       "       [0.40076426, 0.5992357 ],\n",
       "       [0.38866088, 0.6113391 ],\n",
       "       [0.42057338, 0.5794266 ],\n",
       "       [0.40717623, 0.59282374],\n",
       "       [0.398371  , 0.60162896],\n",
       "       [0.40789115, 0.59210885],\n",
       "       [0.46772504, 0.53227496],\n",
       "       [0.38960743, 0.6103926 ],\n",
       "       [0.4174491 , 0.58255094],\n",
       "       [0.3964302 , 0.6035698 ],\n",
       "       [0.42002887, 0.5799711 ],\n",
       "       [0.39045006, 0.60954994],\n",
       "       [0.40290818, 0.5970918 ],\n",
       "       [0.42880595, 0.5711941 ],\n",
       "       [0.40235636, 0.5976437 ],\n",
       "       [0.46916258, 0.5308374 ],\n",
       "       [0.43986833, 0.56013167],\n",
       "       [0.39053044, 0.6094696 ],\n",
       "       [0.41412917, 0.5858708 ],\n",
       "       [0.39068905, 0.6093109 ],\n",
       "       [0.4105224 , 0.58947766],\n",
       "       [0.3921307 , 0.60786927],\n",
       "       [0.4065387 , 0.59346133],\n",
       "       [0.40153635, 0.59846365],\n",
       "       [0.38664892, 0.61335105],\n",
       "       [0.39658245, 0.6034175 ],\n",
       "       [0.38481897, 0.615181  ],\n",
       "       [0.40696996, 0.59303004],\n",
       "       [0.3974587 , 0.60254127],\n",
       "       [0.40377557, 0.5962244 ],\n",
       "       [0.4044582 , 0.59554183],\n",
       "       [0.3827885 , 0.6172115 ],\n",
       "       [0.39582482, 0.6041752 ],\n",
       "       [0.39134526, 0.6086548 ],\n",
       "       [0.449398  , 0.55060196],\n",
       "       [0.4126983 , 0.5873017 ],\n",
       "       [0.3942964 , 0.6057036 ],\n",
       "       [0.39933714, 0.6006629 ],\n",
       "       [0.42113152, 0.57886845],\n",
       "       [0.40004674, 0.5999533 ],\n",
       "       [0.40250272, 0.5974973 ],\n",
       "       [0.41454464, 0.5854554 ],\n",
       "       [0.4107544 , 0.5892456 ],\n",
       "       [0.4024023 , 0.5975977 ],\n",
       "       [0.41570014, 0.58429986],\n",
       "       [0.42998603, 0.57001394],\n",
       "       [0.45737138, 0.5426286 ],\n",
       "       [0.38677412, 0.6132259 ],\n",
       "       [0.41779777, 0.58220226],\n",
       "       [0.3967543 , 0.6032457 ],\n",
       "       [0.4047737 , 0.59522635],\n",
       "       [0.40172082, 0.59827924],\n",
       "       [0.4063435 , 0.5936565 ],\n",
       "       [0.3908876 , 0.60911244],\n",
       "       [0.39346564, 0.60653436],\n",
       "       [0.4202312 , 0.5797688 ],\n",
       "       [0.408545  , 0.591455  ],\n",
       "       [0.39245144, 0.6075486 ],\n",
       "       [0.38958213, 0.6104179 ],\n",
       "       [0.40202576, 0.5979742 ],\n",
       "       [0.40737036, 0.5926296 ],\n",
       "       [0.40473005, 0.59527   ],\n",
       "       [0.40680188, 0.5931981 ],\n",
       "       [0.39038146, 0.6096185 ],\n",
       "       [0.40566957, 0.59433043],\n",
       "       [0.39181814, 0.60818183],\n",
       "       [0.41965   , 0.58035004],\n",
       "       [0.40985268, 0.5901473 ],\n",
       "       [0.40215173, 0.59784824],\n",
       "       [0.48245946, 0.5175405 ],\n",
       "       [0.38980445, 0.6101956 ],\n",
       "       [0.40261853, 0.5973815 ],\n",
       "       [0.40032023, 0.5996797 ],\n",
       "       [0.39065775, 0.6093422 ],\n",
       "       [0.3974832 , 0.6025168 ],\n",
       "       [0.41219732, 0.58780265],\n",
       "       [0.44997242, 0.55002755],\n",
       "       [0.387889  , 0.61211103],\n",
       "       [0.38837495, 0.6116251 ],\n",
       "       [0.3904878 , 0.6095122 ],\n",
       "       [0.41300374, 0.5869963 ],\n",
       "       [0.3998862 , 0.6001138 ],\n",
       "       [0.3993226 , 0.6006774 ],\n",
       "       [0.40495163, 0.59504837],\n",
       "       [0.4064382 , 0.5935619 ],\n",
       "       [0.3895533 , 0.6104467 ],\n",
       "       [0.39122733, 0.6087727 ],\n",
       "       [0.390986  , 0.6090139 ],\n",
       "       [0.40617877, 0.59382117],\n",
       "       [0.41281486, 0.58718514],\n",
       "       [0.41554874, 0.5844512 ],\n",
       "       [0.44975162, 0.5502484 ],\n",
       "       [0.41028947, 0.5897106 ],\n",
       "       [0.46647903, 0.53352094],\n",
       "       [0.39043468, 0.6095654 ],\n",
       "       [0.40855047, 0.59144956],\n",
       "       [0.432314  , 0.567686  ],\n",
       "       [0.39123845, 0.6087615 ],\n",
       "       [0.42248133, 0.57751864],\n",
       "       [0.39042696, 0.60957307],\n",
       "       [0.40203556, 0.5979644 ],\n",
       "       [0.44758493, 0.55241513],\n",
       "       [0.39852023, 0.60147977],\n",
       "       [0.43891606, 0.561084  ],\n",
       "       [0.38920298, 0.610797  ],\n",
       "       [0.40626442, 0.5937356 ],\n",
       "       [0.3909576 , 0.6090424 ],\n",
       "       [0.40191513, 0.59808487],\n",
       "       [0.38829958, 0.61170036],\n",
       "       [0.39090332, 0.6090967 ],\n",
       "       [0.40152934, 0.5984706 ],\n",
       "       [0.41562396, 0.5843761 ],\n",
       "       [0.40371984, 0.59628016],\n",
       "       [0.43693963, 0.56306034],\n",
       "       [0.41336784, 0.58663213],\n",
       "       [0.4145228 , 0.58547723]], dtype=float32)"
      ]
     },
     "execution_count": 154,
     "metadata": {},
     "output_type": "execute_result"
    }
   ],
   "source": [
    "pred"
   ]
  },
  {
   "cell_type": "code",
   "execution_count": 155,
   "metadata": {},
   "outputs": [
    {
     "data": {
      "text/plain": [
       "array([0, 1, 0, 0, 1, 0, 0, 1, 0, 1, 0, 0, 1, 1, 1, 0, 0, 1, 0, 1, 0, 1,\n",
       "       1, 1, 0, 0, 0, 1, 1, 0, 1, 0, 1, 0, 0, 1, 1, 1, 0, 0, 1, 0, 1, 1,\n",
       "       0, 1, 0, 1, 1, 0, 0, 0, 0, 0, 0, 0, 0, 1, 1, 1, 0, 0, 0, 1, 1, 0,\n",
       "       0, 0, 0, 0, 0, 0, 1, 1, 0, 0, 1, 1, 1, 0, 1, 0, 0, 1, 0, 1, 1, 1,\n",
       "       0, 1, 1, 1, 0, 0, 1, 1, 0, 1, 0, 1, 0, 1, 1, 0, 0, 1, 1, 0, 0, 0,\n",
       "       1, 1, 1, 0, 1, 0, 1, 1, 1, 1, 1, 0, 0, 0, 0, 1, 1, 0, 1, 1, 0, 0,\n",
       "       0, 0, 0, 1, 1, 0, 1, 0, 0, 0, 1, 0, 1, 0, 1, 1, 0, 1, 0, 0, 1, 0,\n",
       "       0, 0, 1, 0, 0, 0, 1, 1, 1, 0, 0, 0, 0, 0, 0, 0, 1, 1, 0, 0, 1, 0,\n",
       "       1, 1, 1, 1, 0, 1, 0, 1, 0, 1, 1, 0, 1, 1, 0, 1, 1, 1, 1, 1, 0, 0,\n",
       "       1, 0, 1, 0, 0, 0, 1, 0, 1, 1, 0, 1, 0, 0, 0, 0, 1, 0, 1, 0, 1, 1,\n",
       "       0, 1, 0, 0, 0, 0, 1, 0, 0, 1, 1, 0, 0, 0, 1, 0, 0, 1, 1, 0, 0, 0,\n",
       "       0, 0, 0, 1, 0, 0, 1, 1, 1, 1, 1, 1, 0, 1, 0, 1, 1, 1, 1, 1, 0, 1,\n",
       "       1, 1, 0, 1, 0, 1, 1, 1, 0, 0, 1, 1, 1, 1, 1, 0, 1, 0, 1, 1, 1, 1,\n",
       "       0, 0, 0, 1, 0, 1, 0, 1, 0, 0, 0, 0, 1, 1, 1, 1, 1, 0, 1, 0, 0, 0,\n",
       "       1, 1, 1, 0, 1, 1, 1, 1, 1, 0, 1, 0, 1, 0, 0, 1, 0, 1, 1, 0, 1, 0,\n",
       "       1, 1, 1, 0, 0, 1, 0, 1, 1, 0, 1, 1, 1, 1, 1, 1, 0, 0, 1, 1, 0, 1,\n",
       "       1, 0, 0, 1, 0, 0, 0, 1, 1, 1, 1, 0, 0, 0, 1, 1, 1, 1, 1, 1, 1, 1,\n",
       "       1, 0, 0, 0, 0, 1, 0, 1, 1, 0, 0, 0, 0, 1, 1, 1, 0, 1, 1, 0, 1, 1,\n",
       "       1, 0, 0, 0, 0, 1, 1, 0, 0, 1, 1, 0, 1, 0, 1, 1, 0, 1, 0, 1, 1, 1,\n",
       "       0, 0, 0, 1, 1, 0, 1])"
      ]
     },
     "execution_count": 155,
     "metadata": {},
     "output_type": "execute_result"
    }
   ],
   "source": [
    "truth"
   ]
  },
  {
   "cell_type": "code",
   "execution_count": 174,
   "metadata": {},
   "outputs": [],
   "source": [
    "def evaluate_predictions(truth, pred):\n",
    "    \"\"\"\n",
    "    TODO: Evaluate the performance of the predictoin via AUROC, and F1 score\n",
    "\n",
    "    each prediction in pred is a vector representing [p_0, p_1].\n",
    "    When defining the scores we are interesed in detecting class 1 only\n",
    "    (Hint: use roc_auc_score and f1_score from sklearn.metrics, be sure to read their documentation)\n",
    "    return: auroc, f1\n",
    "    \"\"\"\n",
    "    from sklearn.metrics import roc_auc_score, f1_score\n",
    "\n",
    "    # your code here\n",
    "    y_pred = pred[:, 1]\n",
    "    auroc = roc_auc_score(truth, y_pred)\n",
    "    y_pred = y_pred > 0.5\n",
    "    f1 = f1_score(truth, y_pred)\n",
    "    # raise NotImplementedError\n",
    "\n",
    "    return auroc, f1"
   ]
  },
  {
   "cell_type": "code",
   "execution_count": 175,
   "metadata": {},
   "outputs": [
    {
     "name": "stdout",
     "output_type": "stream",
     "text": [
      "AUROC=0.9161640798226164 and F1=0.8397291196388261\n"
     ]
    }
   ],
   "source": [
    "'''\n",
    "AUTOGRADER CELL. DO NOT MODIFY THIS.\n",
    "'''\n",
    "pred, truth = eval_model(model, test_loader, device=device)\n",
    "auroc, f1 = evaluate_predictions(truth, pred)\n",
    "print(f\"AUROC={auroc} and F1={f1}\")\n",
    "\n",
    "assert auroc > 0.8 and f1 > 0.7, \"Performance is too low {}. Something's probably off.\".format((auroc, f1))"
   ]
  },
  {
   "cell_type": "code",
   "execution_count": null,
   "metadata": {},
   "outputs": [],
   "source": []
  }
 ],
 "metadata": {
  "kernelspec": {
   "display_name": "Python 3 (ipykernel)",
   "language": "python",
   "name": "python3"
  },
  "language_info": {
   "codemirror_mode": {
    "name": "ipython",
    "version": 3
   },
   "file_extension": ".py",
   "mimetype": "text/x-python",
   "name": "python",
   "nbconvert_exporter": "python",
   "pygments_lexer": "ipython3",
   "version": "3.8.2"
  },
  "toc": {
   "base_numbering": 1,
   "nav_menu": {},
   "number_sections": false,
   "sideBar": true,
   "skip_h1_title": true,
   "title_cell": "Table of Contents",
   "title_sidebar": "Contents",
   "toc_cell": false,
   "toc_position": {},
   "toc_section_display": true,
   "toc_window_display": true
  }
 },
 "nbformat": 4,
 "nbformat_minor": 4
}
