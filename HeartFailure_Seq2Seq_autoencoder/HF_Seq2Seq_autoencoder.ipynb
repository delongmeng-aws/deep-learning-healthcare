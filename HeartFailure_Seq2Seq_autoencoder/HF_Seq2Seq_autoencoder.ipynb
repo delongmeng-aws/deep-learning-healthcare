{
 "cells": [
  {
   "cell_type": "markdown",
   "metadata": {},
   "source": [
    "# Seq2Seq autoencoder for EHR\n",
    "\n",
    "## Overview\n",
    "\n",
    "In this project, we will use the sequence-to-sequence (Seq2seq) autoencoder model to generate patient EHR embedding and use these embeddings to conduct unsupervised patient clustering."
   ]
  },
  {
   "cell_type": "code",
   "execution_count": 1,
   "metadata": {},
   "outputs": [],
   "source": [
    "import os\n",
    "import pickle\n",
    "import random\n",
    "import numpy as np\n",
    "import torch\n",
    "import torch.nn as nn\n",
    "import torch.nn.functional as F\n",
    "\n",
    "# set seed\n",
    "seed = 24\n",
    "random.seed(seed)\n",
    "np.random.seed(seed)\n",
    "torch.manual_seed(seed)\n",
    "os.environ[\"PYTHONHASHSEED\"] = str(seed)\n",
    "\n",
    "# Define data path\n",
    "DATA_PATH = \"lib/data\""
   ]
  },
  {
   "cell_type": "markdown",
   "metadata": {},
   "source": [
    "## About Raw Data\n",
    "\n",
    "We will use the same dataset synthesized from [MIMIC-III](https://mimic.physionet.org/gettingstarted/access/), but with different input formats.\n",
    "\n",
    "The data has been preprocessed for you. Let us load them and take a look."
   ]
  },
  {
   "cell_type": "code",
   "execution_count": 2,
   "metadata": {},
   "outputs": [],
   "source": [
    "pids = pickle.load(open(os.path.join(DATA_PATH,'train/pids.pkl'), 'rb'))\n",
    "vids = pickle.load(open(os.path.join(DATA_PATH,'train/vids.pkl'), 'rb'))\n",
    "hfs = pickle.load(open(os.path.join(DATA_PATH,'train/hfs.pkl'), 'rb'))\n",
    "seqs = pickle.load(open(os.path.join(DATA_PATH,'train/seqs.pkl'), 'rb'))\n",
    "types = pickle.load(open(os.path.join(DATA_PATH,'train/types.pkl'), 'rb'))\n",
    "rtypes = pickle.load(open(os.path.join(DATA_PATH,'train/rtypes.pkl'), 'rb'))\n",
    "\n",
    "assert len(pids) == len(vids) == len(hfs) == len(seqs) == 1000\n",
    "assert len(types) == 619"
   ]
  },
  {
   "cell_type": "markdown",
   "metadata": {},
   "source": [
    "where\n",
    "\n",
    "- `pids`: contains the patient ids\n",
    "- `vids`: contains a list of visit ids for each patient\n",
    "- `hfs`: contains the heart failure label (0: normal, 1: heart failure) for each patient\n",
    "- `seqs`: contains a list of visit (in ICD9 codes) for each patient\n",
    "- `types`: contains the map from ICD9 codes to ICD-9 labels\n",
    "- `rtypes`: contains the map from ICD9 labels to ICD9 codes\n",
    "\n",
    "Let us take a patient as an example."
   ]
  },
  {
   "cell_type": "code",
   "execution_count": 3,
   "metadata": {},
   "outputs": [
    {
     "name": "stdout",
     "output_type": "stream",
     "text": [
      "Patient ID: 47537\n",
      "Heart Failure: 0\n",
      "# of visits: 2\n",
      "\t0-th visit id: 0\n",
      "\t0-th visit diagnosis labels: [12, 103, 262, 285, 290, 292, 359, 416, 39, 225, 275, 294, 326, 267, 93]\n",
      "\t0-th visit diagnosis codes: ['DIAG_041', 'DIAG_276', 'DIAG_518', 'DIAG_560', 'DIAG_567', 'DIAG_569', 'DIAG_707', 'DIAG_785', 'DIAG_155', 'DIAG_456', 'DIAG_537', 'DIAG_571', 'DIAG_608', 'DIAG_529', 'DIAG_263']\n",
      "\t1-th visit id: 1\n",
      "\t1-th visit diagnosis labels: [12, 103, 240, 262, 290, 292, 319, 359, 510, 513, 577, 307, 8, 280, 18, 131]\n",
      "\t1-th visit diagnosis codes: ['DIAG_041', 'DIAG_276', 'DIAG_482', 'DIAG_518', 'DIAG_567', 'DIAG_569', 'DIAG_599', 'DIAG_707', 'DIAG_995', 'DIAG_998', 'DIAG_V09', 'DIAG_584', 'DIAG_031', 'DIAG_553', 'DIAG_070', 'DIAG_305']\n"
     ]
    }
   ],
   "source": [
    "# take the 3rd patient as an example\n",
    "\n",
    "print(\"Patient ID:\", pids[3])\n",
    "print(\"Heart Failure:\", hfs[3])\n",
    "print(\"# of visits:\", len(vids[3]))\n",
    "for visit in range(len(vids[3])):\n",
    "    print(f\"\\t{visit}-th visit id:\", vids[3][visit])\n",
    "    print(f\"\\t{visit}-th visit diagnosis labels:\", seqs[3][visit])\n",
    "    print(f\"\\t{visit}-th visit diagnosis codes:\", [rtypes[label] for label in seqs[3][visit]])"
   ]
  },
  {
   "cell_type": "markdown",
   "metadata": {},
   "source": [
    "Note that `seqs` is a list of list of list. That is, `seqs[i][j][k]` gives you the k-th diagnosis codes for the j-th visit for the i-th patient.\n",
    "\n",
    "And you can look up the meaning of the ICD9 code online. For example, `DIAG_276` represetns *disorders of fluid electrolyte and acid-base balance*.\n",
    "\n",
    "Further, let see number of heart failure patients."
   ]
  },
  {
   "cell_type": "code",
   "execution_count": 4,
   "metadata": {},
   "outputs": [
    {
     "name": "stdout",
     "output_type": "stream",
     "text": [
      "number of heart failure patients: 548\n",
      "ratio of heart failure patients: 0.55\n"
     ]
    }
   ],
   "source": [
    "print(\"number of heart failure patients:\", sum(hfs))\n",
    "print(\"ratio of heart failure patients: %.2f\" % (sum(hfs) / len(hfs)))"
   ]
  },
  {
   "cell_type": "markdown",
   "metadata": {},
   "source": [
    "For the sake of computational efficiency, we will only use the diagnosis that appears more than or equal to 50 times in `seqs`. We need first store these frequent diagnosis labels into list `freq_codes`."
   ]
  },
  {
   "cell_type": "code",
   "execution_count": 5,
   "metadata": {},
   "outputs": [],
   "source": [
    "freq_codes = []\n",
    "\n",
    "'''\n",
    "Append all codes that appears more than 50 times in freq_codes list.\n",
    "'''\n",
    "\n",
    "cnt_dict = {}\n",
    "for i in range(len(seqs)):\n",
    "    for j in range(len(seqs[i])):\n",
    "        for each_code in seqs[i][j]:\n",
    "            if each_code not in cnt_dict:\n",
    "                cnt_dict[each_code] = 1\n",
    "            else:\n",
    "                cnt_dict[each_code] += 1\n",
    "\n",
    "for each_code in cnt_dict:\n",
    "    if cnt_dict[each_code] >= 50:\n",
    "        freq_codes.append(each_code)\n",
    "        \n",
    "assert len(freq_codes) == 105"
   ]
  },
  {
   "cell_type": "code",
   "execution_count": 6,
   "metadata": {},
   "outputs": [],
   "source": [
    "code2idx = {code: idx for idx, code in enumerate(freq_codes)}"
   ]
  },
  {
   "cell_type": "markdown",
   "metadata": {},
   "source": [
    "## 2 Build the dataset\n",
    "\n",
    "### 2.1 Custom the dataset\n",
    "\n",
    "First, let us implement a custom dataset using PyTorch class `Dataset`, which will characterize the key features of the dataset we want to generate.\n",
    "\n",
    "We will use the sequences of diagnosis codes `seqs` as input and heart failure `hfs` as output."
   ]
  },
  {
   "cell_type": "code",
   "execution_count": 7,
   "metadata": {},
   "outputs": [],
   "source": [
    "from torch.utils.data import Dataset\n",
    "\n",
    "class CustomDataset(Dataset):\n",
    "\n",
    "    def __init__(self, seqs, hfs):\n",
    "\n",
    "        self.x = seqs\n",
    "        self.y = hfs\n",
    "\n",
    "    def __len__(self):\n",
    "\n",
    "        return len(self.y)\n",
    "\n",
    "    def __getitem__(self, index):\n",
    "\n",
    "        # Generates one sample of data.\n",
    "        return self.x[index], self.y[index]  \n",
    "\n",
    "dataset = CustomDataset(seqs, hfs)"
   ]
  },
  {
   "cell_type": "markdown",
   "metadata": {},
   "source": [
    "### 2.2 Collate Function\n",
    "\n",
    "Note that we do not convert the data to tensor in the built `CustomDataset`. Instead, we will do this using a collate function `collate_fn()`. \n",
    "\n",
    "This collate function `collate_fn()` will be called by `DataLoader` after fetching a list of samples using the indices from `CustomDataset` to collate the list of samples into batches.\n",
    "\n",
    "For example, assume the `DataLoader` gets a list of two samples.\n",
    "\n",
    "```\n",
    "[ [ [0, 1, 2], [4, 0] ], \n",
    "  [ [2, 3], [1], [1, 4] ] ]\n",
    "```\n",
    "\n",
    "where the first sample has two visits `[0, 1, 2]` and `[4, 0]` and the second sample has three visits `[2, 3]`, `[1]`, and `[4, 1]`.\n",
    "\n",
    "The collate function `collate_fn()` is supposed to pad them into a multi-hot vector with shape (2, 3, 5), where 3 is the maximum number of visits, and 5 is the number of total diagnosis codes.\n",
    "\n",
    "```\n",
    "[ [ [1, 1, 1, 0, 0], [1, 0, 0, 0, 1], [0, 0, 0, 0, 0] ],\n",
    "  [ [0, 0, 1, 1, 0], [0, 1, 0, 0, 0], [0, 1, 0, 0, 1] ] ]\n",
    "```\n",
    "\n",
    "Further, the padding information will be stored in a mask with the shape (2, 3), where 1 indicates that the visit at this position is from the original input, and 0 indicates that the visit at this position is the padded value.\n",
    "\n",
    "```\n",
    "[ [1, 1, 0], \n",
    "  [1, 1, 1] ]\n",
    "```\n",
    "\n",
    "We need to pad the sequences into the same length so that we can do batch training on GPU. And we also need this mask so that when training, we can ignored the padded value as they actually do not contain any information.\n",
    "\n",
    "We only keep the codes that in the `freq_codes` list and drop other codes."
   ]
  },
  {
   "cell_type": "code",
   "execution_count": 9,
   "metadata": {},
   "outputs": [],
   "source": [
    "def collate_fn(data):\n",
    "    \"\"\"\n",
    "    Collate the the list of samples into batches. For each patient, we pad the diagnosis\n",
    "    sequences to the sample shape (max # visits, len(freq_codes)). The padding infomation\n",
    "    is stored in `mask`.\n",
    "    \n",
    "    Arguments:\n",
    "        data: a list of samples fetched from `CustomDataset`\n",
    "        \n",
    "    Outputs:\n",
    "        x: a tensor of shape (# patiens, max # visits, len(freq_codes)) of type torch.float\n",
    "        masks: a tensor of shape (# patiens, max # visits) of type torch.bool\n",
    "        y: a tensor of shape (# patiens) of type torch.float\n",
    "    \"\"\"\n",
    "\n",
    "    sequences, labels = zip(*data)\n",
    "\n",
    "    y = torch.tensor(labels, dtype=torch.float)\n",
    "    \n",
    "    num_patients = len(sequences)\n",
    "    num_visits = [len(patient) for patient in sequences]\n",
    "    max_num_visits = max(num_visits)\n",
    "    \n",
    "    x = torch.zeros((num_patients, max_num_visits, len(freq_codes)), dtype=torch.float)    \n",
    "    for i_patient, patient in enumerate(sequences):\n",
    "        for j_visit, visit in enumerate(patient):\n",
    "            for code in visit:\n",
    "                if code in code2idx:\n",
    "                    # if code is in freq_codes, we obtain the code index and set the correspoindg element in x to 1\n",
    "                    idx = code2idx[code]\n",
    "                    x[i_patient, j_visit, idx] = 1\n",
    "    \n",
    "    masks = torch.sum(x, dim=-1) > 0\n",
    "    \n",
    "    return x, masks, y"
   ]
  },
  {
   "cell_type": "code",
   "execution_count": 10,
   "metadata": {},
   "outputs": [],
   "source": [
    "from torch.utils.data import DataLoader\n",
    "\n",
    "loader = DataLoader(dataset, batch_size=10, collate_fn=collate_fn)\n",
    "loader_iter = iter(loader)\n",
    "x, masks, y = next(loader_iter)\n",
    "\n",
    "assert x.dtype == torch.float\n",
    "assert y.dtype == torch.float\n",
    "assert masks.dtype == torch.bool\n",
    "\n",
    "assert x.shape == (10, 3, 105)\n",
    "assert y.shape == (10,)\n",
    "assert masks.shape == (10, 3)\n",
    "\n",
    "assert x[0][0].sum() == 9\n",
    "assert masks[0].sum() == 2"
   ]
  },
  {
   "cell_type": "code",
   "execution_count": 14,
   "metadata": {},
   "outputs": [
    {
     "data": {
      "text/plain": [
       "tensor([[ True,  True, False],\n",
       "        [ True,  True, False],\n",
       "        [ True,  True, False],\n",
       "        [ True,  True, False],\n",
       "        [ True,  True, False],\n",
       "        [ True,  True, False],\n",
       "        [ True,  True, False],\n",
       "        [ True,  True, False],\n",
       "        [ True,  True,  True],\n",
       "        [ True,  True,  True]])"
      ]
     },
     "execution_count": 14,
     "metadata": {},
     "output_type": "execute_result"
    }
   ],
   "source": [
    "masks"
   ]
  },
  {
   "cell_type": "markdown",
   "metadata": {},
   "source": [
    "Now we have `CustomDataset` and `collate_fn()`. Let us split the dataset into training and validation sets."
   ]
  },
  {
   "cell_type": "code",
   "execution_count": 11,
   "metadata": {},
   "outputs": [
    {
     "name": "stdout",
     "output_type": "stream",
     "text": [
      "Length of train dataset: 800\n",
      "Length of val dataset: 200\n"
     ]
    }
   ],
   "source": [
    "from torch.utils.data.dataset import random_split\n",
    "\n",
    "split = int(len(dataset)*0.8)\n",
    "\n",
    "lengths = [split, len(dataset) - split]\n",
    "train_dataset, val_dataset = random_split(dataset, lengths)\n",
    "\n",
    "print(\"Length of train dataset:\", len(train_dataset))\n",
    "print(\"Length of val dataset:\", len(val_dataset))"
   ]
  },
  {
   "cell_type": "markdown",
   "metadata": {},
   "source": [
    "### 2.3 DataLoader\n",
    "\n",
    "Now, we can load the dataset into the data loader."
   ]
  },
  {
   "cell_type": "code",
   "execution_count": 12,
   "metadata": {},
   "outputs": [],
   "source": [
    "from torch.utils.data import DataLoader\n",
    "\n",
    "def load_data(train_dataset, val_dataset, collate_fn):\n",
    "    \n",
    "    '''\n",
    "    Return the data loader for  train and validation dataset. \n",
    "    \n",
    "    Arguments:\n",
    "        train dataset: train dataset of type `CustomDataset`\n",
    "        val dataset: validation dataset of type `CustomDataset`\n",
    "        collate_fn: collate function\n",
    "        \n",
    "    Outputs:\n",
    "        train_loader, val_loader: train and validation dataloaders\n",
    "    '''\n",
    "    batch_size = 32\n",
    "    train_loader = DataLoader(train_dataset, batch_size=batch_size, shuffle=True, collate_fn=collate_fn)\n",
    "    val_loader = DataLoader(val_dataset, batch_size=batch_size, shuffle=False, collate_fn=collate_fn)\n",
    "    return train_loader, val_loader"
   ]
  },
  {
   "cell_type": "code",
   "execution_count": 13,
   "metadata": {},
   "outputs": [],
   "source": [
    "train_loader, val_loader = load_data(train_dataset, val_dataset, collate_fn)"
   ]
  },
  {
   "cell_type": "markdown",
   "metadata": {},
   "source": [
    "## 3 Building the Seq2Seq model"
   ]
  },
  {
   "cell_type": "markdown",
   "metadata": {},
   "source": [
    "The most common sequence-to-sequence (Seq2Seq) models are *encoder-decoder* models, which commonly use a *recurrent neural network* (RNN) to *encode* the source (input) sentence into a single vector. In this notebook, we'll refer to this single vector as a *context vector*. Since we have implemented RNNs previously, we will instead use a CNN as the encoder. We can think of the context vector as being an abstract representation of the entire input sentence. This vector is then *decoded* to output the target by generating it one word at a time.\n",
    "\n",
    "In this part, we will build a naive Seq2Seq autoencoder model which uses a CNN with attention mechanism as encoder and a GRU as decoder. The input to the encoder will be the multi-hot code vector at each timestep. The decoder will try to reconstruct the input at each timestep based on the hidden embedding of the encoder network. In this way, we can store the longitudinal patient EHR data in a vector (i.e., the hidden state of the encoder network)."
   ]
  },
  {
   "cell_type": "markdown",
   "metadata": {},
   "source": [
    "### 3.1 Build the encoder model\n",
    "\n",
    "First, we will build the encoder model using ```nn.Conv2d```. We will 1) feed the input into the CNN and calculate a hidden state for each timestep, 2) calculate the attention weights for each timestep, 3) calculate the context vector by aggregating all the hidden states using the attention weights. Importantly, we need to use `masks` to mask out the visits when calculating the attention weights and aggregate the hidden states."
   ]
  },
  {
   "cell_type": "code",
   "execution_count": 15,
   "metadata": {},
   "outputs": [],
   "source": [
    "class Encoder(nn.Module):\n",
    "    \n",
    "    def __init__(self):\n",
    "        super().__init__()\n",
    "\n",
    "        # Define the CNN\n",
    "        self.cnn = nn.Conv2d(in_channels=1, out_channels=128, kernel_size=(3, 105), padding=(1, 0))\n",
    "    \n",
    "        # Define the attention layer\n",
    "        self.att = nn.Linear(in_features=128, out_features=1)\n",
    "    \n",
    "    def forward(self, x, masks):\n",
    "        \"\"\"\n",
    "        Arguments:\n",
    "            x: the diagnosis sequence of shape (batch_size, # visits, # diagnosis codes)\n",
    "            masks: the padding masks of shape (batch_size, # visits)\n",
    "\n",
    "        Outputs:\n",
    "            states: context vectors of shape (batch_size, 128)\n",
    "            \n",
    "        Steps:\n",
    "            1. Pass the sequence through the CNN layer and get hidden states.\n",
    "            2. Permute and squeeze the hidden states, so that the shape is (batch_size, # visits, 128)\n",
    "            3. Calculate the attention score using `self.att`\n",
    "            4. Mask out the padded visits in the attention score with -1e9.\n",
    "            5. Perform softmax on the attention score to get the attention value.\n",
    "            6. Calculate the context vector using attention value and hidden states.\n",
    "        \"\"\"\n",
    "        x = x.unsqueeze(dim=1)\n",
    "        h = self.cnn(x)\n",
    "        h_permuted = h.permute(dims=(0, 2, 1, 3))\n",
    "        h_squeezed = h_permuted.squeeze(dim=-1)\n",
    "        attention_score = self.att(h_squeezed).squeeze(dim=-1)\n",
    "        attention_score[~masks] = -1e9\n",
    "        attention_value = attention_score.softmax(dim=-1)\n",
    "        attention_value = attention_value.unsqueeze(dim=-1)\n",
    "        context_vector = (h_squeezed * attention_value).sum(dim=1)\n",
    "        return context_vector"
   ]
  },
  {
   "cell_type": "code",
   "execution_count": 16,
   "metadata": {},
   "outputs": [],
   "source": [
    "torch.manual_seed(42)\n",
    "\n",
    "encoder = Encoder()\n",
    "\n",
    "loader = DataLoader(dataset, batch_size=10, collate_fn=collate_fn)\n",
    "loader_iter = iter(loader)\n",
    "x, masks, y = next(loader_iter)\n"
   ]
  },
  {
   "cell_type": "markdown",
   "metadata": {},
   "source": [
    "### 3.2 Build the decoder model\n",
    "\n",
    "Next, we'll build our decoder, which will be a GRU.\n",
    "\n",
    "The `Decoder` class does a single step of decoding, i.e. it ouputs single reconstructed results per time-step. The GRU layer will receive the initial hidden state from the encoder outputs. The first input to the decoder will be a zero vector, and then the decoder will try to reconstruct the input at timestep 1. For the following timestep, the input will be the output of the decoder from last timestep.\n",
    "\n",
    "Within the `forward` method, we accept a batch of inputs and previous hidden states. As we are only decoding one token at a time, the input tokens will always have a sequence length of 1. We `unsqueeze` the inputs to add a length dimension of 1."
   ]
  },
  {
   "cell_type": "code",
   "execution_count": 19,
   "metadata": {},
   "outputs": [],
   "source": [
    "class Decoder(nn.Module):\n",
    "    \n",
    "    def __init__(self):\n",
    "        super().__init__()\n",
    "\n",
    "        # Define the RNN using `nn.GRU()`\n",
    "        self.rnn = nn.GRU(input_size=105, hidden_size=128, batch_first=True)\n",
    "        \n",
    "        self.linear1 = nn.Linear(128, 128)\n",
    "        self.act = nn.ReLU()\n",
    "        self.linear2 = nn.Linear(128, 105)\n",
    "        self.sigmoid = nn.Sigmoid()\n",
    "    \n",
    "    def forward(self, x, hiddens):\n",
    "        \"\"\"\n",
    "        Arguments:\n",
    "            x: the diagnosis sequence of shape (batch_size, # diagnosis codes)\n",
    "            hiddens: the padding masks of shape (batch_size, 128)\n",
    "\n",
    "        Outputs:\n",
    "            preds: the reconstructed results of shape (batch_size, # diagnosis codes)\n",
    "            hiddens: the hidden state of the GRU with shape (batch_size, 128)\n",
    "        \"\"\"\n",
    "        \n",
    "        # Unsqueeze the input at dimension 1 -> (batch_size, 1, # diagnosis codes)\n",
    "        x = x.unsqueeze(1)\n",
    "        \n",
    "        # Unsqueeze the hiddens at dimension 0; -> (1, batch_size, 128)\n",
    "        hiddens = hiddens.unsqueeze(0)\n",
    "\n",
    "        # Pass the input through the RNN layer\n",
    "        output, h_n = self.rnn(input=x, hx=hiddens)\n",
    "        \n",
    "        # Squeeze the hidden states h_n of RNN at dimension 0\n",
    "        h_n = h_n.squeeze(0)\n",
    "        \n",
    "        preds = self.linear1(h_n)\n",
    "        preds = self.act(preds)\n",
    "        preds = self.linear2(preds)\n",
    "        preds = self.sigmoid(preds)\n",
    "        \n",
    "        return preds, h_n"
   ]
  },
  {
   "cell_type": "code",
   "execution_count": 20,
   "metadata": {},
   "outputs": [],
   "source": [
    "torch.manual_seed(42)\n",
    "decoder = Decoder()\n",
    "x = torch.randn(10, 105)\n",
    "hiddens = torch.randn(10, 128)"
   ]
  },
  {
   "cell_type": "markdown",
   "metadata": {},
   "source": [
    "### 3.3 Connect the encoder and decoder\n",
    "\n",
    "For the final part of the implemenetation, we'll implement the Seq2Seq model\n",
    "\n",
    "The `Seq2Seq` model takes in an `Encoder` and a `Decoder`.\n",
    "\n",
    "Our `forward` method takes the source sequence, target sentence and a teacher-forcing ratio. The teacher forcing ratio is used when training our model. With probability equal to the teaching forcing ratio (`teacher_forcing_ratio`) we will use the actual ground-truth input in the sequence as the input to the decoder during the next time-step. However, with probability `1 - teacher_forcing_ratio`, we will use the output that the model predicted as the next input to the model.  \n",
    "\n",
    "The first input to the decoder is a zero vector.\n",
    "\n",
    "During each iteration of the loop, we:\n",
    "- pass the input, previous hidden states into the decoder\n",
    "- receive a prediction and next hidden state from the decoder\n",
    "- decide if we are going to \"teacher force\" or not\n",
    "    - if we do, the next `input` is the ground-truth input in the sequence\n",
    "    - if we don't, the next `input` is the predicted input in the sequence\n",
    "    \n",
    "Once we've made all of our predictions, we return our tensor full of predictions.\n",
    "\n",
    "So our `inputs` and `outputs` of the decoder look something like ($x_t$ is the orinal input, $\\hat{x}_t$ is the reconstructed input):\n",
    "\n",
    "If not use teach force:\n",
    "\n",
    "$$\\begin{align*}\n",
    "\\text{inputs} &= [0, \\hat{x}_1, \\hat{x}_2]\\\\\n",
    "\\text{outputs} &= [\\hat{x}_1, \\hat{x}_2, \\hat{x}_3]\n",
    "\\end{align*}$$\n",
    "\n",
    "If use teach force:\n",
    "\n",
    "$$\\begin{align*}\n",
    "\\text{inputs} &= [0, x_1, x_2]\\\\\n",
    "\\text{outputs} &= [\\hat{x}_1, \\hat{x}_2, \\hat{x}_3]\n",
    "\\end{align*}$$"
   ]
  },
  {
   "cell_type": "code",
   "execution_count": 21,
   "metadata": {},
   "outputs": [],
   "source": [
    "class Seq2Seq(nn.Module):\n",
    "    \n",
    "    def __init__(self, encoder, decoder, teacher_forcing_ratio):\n",
    "        super().__init__()\n",
    "        self.encoder = encoder\n",
    "        self.decoder = decoder\n",
    "        self.teacher_forcing_ratio = teacher_forcing_ratio\n",
    "        \n",
    "    def forward(self, x, masks):\n",
    "        \"\"\"            \n",
    "        Arguments:\n",
    "            x: the diagnosis sequence of shape (batch_size, # visits, # diagnosis codes)\n",
    "            masks: the padding masks of shape (batch_size, # visits)\n",
    "\n",
    "        Outputs:\n",
    "            preds: the reconstructed results of shape (batch_size, # visits, # diagnosis codes)          \n",
    "        \"\"\"\n",
    "        \n",
    "        preds = []\n",
    "        \n",
    "        batch_size = x.shape[0]\n",
    "        seq_len = x.shape[1]\n",
    "        \n",
    "        # step 1: Pass the input through the encoder; save the output to `hidden`\n",
    "        hidden = self.encoder(x=x, masks=masks)\n",
    "        \n",
    "        # step 2: Pass the first input (0) and encoder hidden state to the decoder\n",
    "        x_decode = torch.zeros(batch_size, 105)\n",
    "        cur_pred, h = self.decoder(x_decode, hidden)\n",
    "        preds.append(cur_pred)\n",
    "        \n",
    "        for t in range(1, seq_len):\n",
    "            # step 3.1: Use `random.random()` to decide whether to use teacher force\n",
    "            teacher_force = random.random() < self.teacher_forcing_ratio\n",
    "            \n",
    "            # step 3.2: Pass the previous output `cur_pred` / the ground truth input `x[:, t-1, :]` and previous hidden state `h` to the decoder\n",
    "            if teacher_force:\n",
    "                cur_pred, h = self.decoder(x=x[:, t-1, :], hiddens=h)\n",
    "            else:\n",
    "                cur_pred, h = self.decoder(x=cur_pred, hiddens=h)\n",
    "            \n",
    "            # step 3.3: Save `cur_pred`, the output of the decoder, to a list\n",
    "            preds.append(cur_pred)\n",
    "        \n",
    "        # step 4: Use torch.stack to convert the list to a tensor and reshape it to (batch_size, # visits, # diagnosis codes)\n",
    "        return torch.stack(preds).permute(1,0,2)"
   ]
  },
  {
   "cell_type": "code",
   "execution_count": 22,
   "metadata": {},
   "outputs": [],
   "source": [
    "torch.manual_seed(42)\n",
    "random.seed(42)\n",
    "\n",
    "seq2seq = Seq2Seq(encoder, decoder, 0.5)\n",
    "\n",
    "x = torch.randn(10, 5, 105)\n",
    "masks = torch.ones(10, 5, dtype=torch.bool)"
   ]
  },
  {
   "cell_type": "markdown",
   "metadata": {},
   "source": [
    "## 4 Model training"
   ]
  },
  {
   "cell_type": "markdown",
   "metadata": {},
   "source": [
    "### 4.1 Loss and optimizer\n",
    "Because we are reconstructing original input, we use BCELoss as loss function. "
   ]
  },
  {
   "cell_type": "code",
   "execution_count": 23,
   "metadata": {},
   "outputs": [],
   "source": [
    "# set reduction='none' because we need to mask out the padding values manually.\n",
    "criterion = nn.BCELoss(reduction='none')\n",
    "optimizer = torch.optim.Adam(seq2seq.parameters(), lr=1e-2)"
   ]
  },
  {
   "cell_type": "markdown",
   "metadata": {},
   "source": [
    "### 4.2 Evaluate"
   ]
  },
  {
   "cell_type": "code",
   "execution_count": 24,
   "metadata": {},
   "outputs": [],
   "source": [
    "from sklearn.metrics import f1_score, accuracy_score\n",
    "\n",
    "\n",
    "def eval(model, val_loader):\n",
    "    \n",
    "    \"\"\"\n",
    "    Evaluate the model.\n",
    "    \n",
    "    Arguments:\n",
    "        model: the seq2seq model\n",
    "        val_loader: validation dataloader\n",
    "        \n",
    "    Outputs:\n",
    "        f1: overall f1 score\n",
    "        accuracy: overall accuracy score; \n",
    "        use np.round to round the preds to calculate the metrics.\n",
    "    \"\"\"\n",
    "    \n",
    "    model.eval()\n",
    "\n",
    "    x_pred = []\n",
    "    x_true = []\n",
    "    for x, masks, y in val_loader:\n",
    "        x_hat = model(x, masks).detach().numpy()\n",
    "        x_hat = np.round(x_hat)\n",
    "        for i in range(len(x_hat)):\n",
    "            for j in range(len(x_hat[i])):\n",
    "                if masks[i, j] == 1:\n",
    "                    x_pred.append(x_hat[i,j])\n",
    "                    x_true.append(x.numpy()[i,j])\n",
    "    \n",
    "    f = f1_score(y_pred=x_pred, y_true=x_true, average='micro')\n",
    "    acc = accuracy_score(y_pred=x_pred, y_true=x_true)\n",
    "    return f, acc"
   ]
  },
  {
   "cell_type": "markdown",
   "metadata": {},
   "source": [
    "### 4.3 Training"
   ]
  },
  {
   "cell_type": "code",
   "execution_count": 25,
   "metadata": {},
   "outputs": [
    {
     "name": "stdout",
     "output_type": "stream",
     "text": [
      "Epoch: 1 \t Training Loss: 78.112186\n",
      "Epoch: 1 \t Validation f: 0.10, acc: 0.00\n",
      "Epoch: 2 \t Training Loss: 57.556244\n",
      "Epoch: 2 \t Validation f: 0.32, acc: 0.00\n",
      "Epoch: 3 \t Training Loss: 50.496552\n",
      "Epoch: 3 \t Validation f: 0.38, acc: 0.00\n",
      "Epoch: 4 \t Training Loss: 46.157903\n",
      "Epoch: 4 \t Validation f: 0.44, acc: 0.00\n",
      "Epoch: 5 \t Training Loss: 42.832717\n",
      "Epoch: 5 \t Validation f: 0.50, acc: 0.02\n",
      "Epoch: 6 \t Training Loss: 39.707881\n",
      "Epoch: 6 \t Validation f: 0.54, acc: 0.02\n",
      "Epoch: 7 \t Training Loss: 37.139348\n",
      "Epoch: 7 \t Validation f: 0.55, acc: 0.02\n",
      "Epoch: 8 \t Training Loss: 34.907290\n",
      "Epoch: 8 \t Validation f: 0.58, acc: 0.02\n",
      "Epoch: 9 \t Training Loss: 33.110809\n",
      "Epoch: 9 \t Validation f: 0.60, acc: 0.03\n",
      "Epoch: 10 \t Training Loss: 30.959893\n",
      "Epoch: 10 \t Validation f: 0.61, acc: 0.03\n",
      "Epoch: 11 \t Training Loss: 28.648621\n",
      "Epoch: 11 \t Validation f: 0.63, acc: 0.03\n",
      "Epoch: 12 \t Training Loss: 26.850092\n",
      "Epoch: 12 \t Validation f: 0.64, acc: 0.04\n",
      "Epoch: 13 \t Training Loss: 25.265448\n",
      "Epoch: 13 \t Validation f: 0.64, acc: 0.04\n",
      "Epoch: 14 \t Training Loss: 23.503776\n",
      "Epoch: 14 \t Validation f: 0.65, acc: 0.05\n",
      "Epoch: 15 \t Training Loss: 23.253163\n",
      "Epoch: 15 \t Validation f: 0.64, acc: 0.04\n",
      "Epoch: 16 \t Training Loss: 21.120758\n",
      "Epoch: 16 \t Validation f: 0.64, acc: 0.04\n",
      "Epoch: 17 \t Training Loss: 20.170759\n",
      "Epoch: 17 \t Validation f: 0.64, acc: 0.06\n",
      "Epoch: 18 \t Training Loss: 19.263389\n",
      "Epoch: 18 \t Validation f: 0.67, acc: 0.07\n",
      "Epoch: 19 \t Training Loss: 18.138041\n",
      "Epoch: 19 \t Validation f: 0.66, acc: 0.05\n",
      "Epoch: 20 \t Training Loss: 16.690912\n",
      "Epoch: 20 \t Validation f: 0.65, acc: 0.05\n",
      "Epoch: 21 \t Training Loss: 15.236596\n",
      "Epoch: 21 \t Validation f: 0.67, acc: 0.07\n",
      "Epoch: 22 \t Training Loss: 15.074200\n",
      "Epoch: 22 \t Validation f: 0.66, acc: 0.06\n",
      "Epoch: 23 \t Training Loss: 15.300602\n",
      "Epoch: 23 \t Validation f: 0.66, acc: 0.06\n",
      "Epoch: 24 \t Training Loss: 13.942657\n",
      "Epoch: 24 \t Validation f: 0.66, acc: 0.06\n",
      "Epoch: 25 \t Training Loss: 13.357272\n",
      "Epoch: 25 \t Validation f: 0.65, acc: 0.07\n",
      "Epoch: 26 \t Training Loss: 12.796968\n",
      "Epoch: 26 \t Validation f: 0.68, acc: 0.08\n",
      "Epoch: 27 \t Training Loss: 11.000616\n",
      "Epoch: 27 \t Validation f: 0.67, acc: 0.07\n",
      "Epoch: 28 \t Training Loss: 10.560953\n",
      "Epoch: 28 \t Validation f: 0.67, acc: 0.09\n",
      "Epoch: 29 \t Training Loss: 10.523120\n",
      "Epoch: 29 \t Validation f: 0.66, acc: 0.07\n",
      "Epoch: 30 \t Training Loss: 9.218150\n",
      "Epoch: 30 \t Validation f: 0.66, acc: 0.06\n",
      "Epoch: 31 \t Training Loss: 9.001039\n",
      "Epoch: 31 \t Validation f: 0.66, acc: 0.07\n",
      "Epoch: 32 \t Training Loss: 8.445516\n",
      "Epoch: 32 \t Validation f: 0.66, acc: 0.07\n",
      "Epoch: 33 \t Training Loss: 7.940436\n",
      "Epoch: 33 \t Validation f: 0.66, acc: 0.08\n",
      "Epoch: 34 \t Training Loss: 7.036254\n",
      "Epoch: 34 \t Validation f: 0.66, acc: 0.07\n",
      "Epoch: 35 \t Training Loss: 7.012908\n",
      "Epoch: 35 \t Validation f: 0.66, acc: 0.07\n",
      "Epoch: 36 \t Training Loss: 6.866896\n",
      "Epoch: 36 \t Validation f: 0.66, acc: 0.06\n",
      "Epoch: 37 \t Training Loss: 6.716049\n",
      "Epoch: 37 \t Validation f: 0.66, acc: 0.07\n",
      "Epoch: 38 \t Training Loss: 6.964801\n",
      "Epoch: 38 \t Validation f: 0.66, acc: 0.08\n",
      "Epoch: 39 \t Training Loss: 7.061844\n",
      "Epoch: 39 \t Validation f: 0.66, acc: 0.07\n",
      "Epoch: 40 \t Training Loss: 6.626662\n",
      "Epoch: 40 \t Validation f: 0.66, acc: 0.07\n",
      "Epoch: 41 \t Training Loss: 6.615394\n",
      "Epoch: 41 \t Validation f: 0.66, acc: 0.07\n",
      "Epoch: 42 \t Training Loss: 6.523374\n",
      "Epoch: 42 \t Validation f: 0.66, acc: 0.05\n",
      "Epoch: 43 \t Training Loss: 6.422341\n",
      "Epoch: 43 \t Validation f: 0.66, acc: 0.08\n",
      "Epoch: 44 \t Training Loss: 6.473685\n",
      "Epoch: 44 \t Validation f: 0.65, acc: 0.06\n",
      "Epoch: 45 \t Training Loss: 7.405303\n",
      "Epoch: 45 \t Validation f: 0.66, acc: 0.05\n",
      "Epoch: 46 \t Training Loss: 9.060051\n",
      "Epoch: 46 \t Validation f: 0.65, acc: 0.05\n",
      "Epoch: 47 \t Training Loss: 11.880638\n",
      "Epoch: 47 \t Validation f: 0.64, acc: 0.04\n",
      "Epoch: 48 \t Training Loss: 16.280440\n",
      "Epoch: 48 \t Validation f: 0.63, acc: 0.06\n",
      "Epoch: 49 \t Training Loss: 14.977155\n",
      "Epoch: 49 \t Validation f: 0.64, acc: 0.04\n",
      "Epoch: 50 \t Training Loss: 13.851127\n",
      "Epoch: 50 \t Validation f: 0.65, acc: 0.07\n",
      "Epoch: 51 \t Training Loss: 11.329911\n",
      "Epoch: 51 \t Validation f: 0.65, acc: 0.06\n",
      "Epoch: 52 \t Training Loss: 9.376268\n",
      "Epoch: 52 \t Validation f: 0.64, acc: 0.07\n",
      "Epoch: 53 \t Training Loss: 7.248571\n",
      "Epoch: 53 \t Validation f: 0.65, acc: 0.06\n",
      "Epoch: 54 \t Training Loss: 5.940691\n",
      "Epoch: 54 \t Validation f: 0.65, acc: 0.07\n",
      "Epoch: 55 \t Training Loss: 5.227837\n",
      "Epoch: 55 \t Validation f: 0.65, acc: 0.07\n",
      "Epoch: 56 \t Training Loss: 4.444630\n",
      "Epoch: 56 \t Validation f: 0.66, acc: 0.07\n",
      "Epoch: 57 \t Training Loss: 3.782069\n",
      "Epoch: 57 \t Validation f: 0.66, acc: 0.06\n",
      "Epoch: 58 \t Training Loss: 3.388739\n",
      "Epoch: 58 \t Validation f: 0.67, acc: 0.08\n",
      "Epoch: 59 \t Training Loss: 3.008904\n",
      "Epoch: 59 \t Validation f: 0.67, acc: 0.07\n",
      "Epoch: 60 \t Training Loss: 2.678780\n",
      "Epoch: 60 \t Validation f: 0.66, acc: 0.06\n",
      "Epoch: 61 \t Training Loss: 2.745134\n",
      "Epoch: 61 \t Validation f: 0.66, acc: 0.06\n",
      "Epoch: 62 \t Training Loss: 2.989604\n",
      "Epoch: 62 \t Validation f: 0.67, acc: 0.06\n",
      "Epoch: 63 \t Training Loss: 2.698438\n",
      "Epoch: 63 \t Validation f: 0.66, acc: 0.07\n",
      "Epoch: 64 \t Training Loss: 2.275504\n",
      "Epoch: 64 \t Validation f: 0.67, acc: 0.07\n",
      "Epoch: 65 \t Training Loss: 2.070738\n",
      "Epoch: 65 \t Validation f: 0.67, acc: 0.05\n",
      "Epoch: 66 \t Training Loss: 1.894699\n",
      "Epoch: 66 \t Validation f: 0.66, acc: 0.06\n",
      "Epoch: 67 \t Training Loss: 1.876196\n",
      "Epoch: 67 \t Validation f: 0.66, acc: 0.06\n",
      "Epoch: 68 \t Training Loss: 1.782295\n",
      "Epoch: 68 \t Validation f: 0.66, acc: 0.06\n",
      "Epoch: 69 \t Training Loss: 1.773199\n",
      "Epoch: 69 \t Validation f: 0.66, acc: 0.06\n",
      "Epoch: 70 \t Training Loss: 1.635689\n",
      "Epoch: 70 \t Validation f: 0.66, acc: 0.06\n",
      "Epoch: 71 \t Training Loss: 1.453428\n",
      "Epoch: 71 \t Validation f: 0.67, acc: 0.07\n",
      "Epoch: 72 \t Training Loss: 1.572242\n",
      "Epoch: 72 \t Validation f: 0.66, acc: 0.06\n",
      "Epoch: 73 \t Training Loss: 1.733421\n",
      "Epoch: 73 \t Validation f: 0.66, acc: 0.07\n",
      "Epoch: 74 \t Training Loss: 1.588352\n",
      "Epoch: 74 \t Validation f: 0.66, acc: 0.07\n",
      "Epoch: 75 \t Training Loss: 1.509487\n",
      "Epoch: 75 \t Validation f: 0.67, acc: 0.06\n",
      "Epoch: 76 \t Training Loss: 1.629950\n",
      "Epoch: 76 \t Validation f: 0.66, acc: 0.07\n",
      "Epoch: 77 \t Training Loss: 1.376092\n",
      "Epoch: 77 \t Validation f: 0.67, acc: 0.06\n",
      "Epoch: 78 \t Training Loss: 1.227799\n",
      "Epoch: 78 \t Validation f: 0.66, acc: 0.07\n",
      "Epoch: 79 \t Training Loss: 1.227632\n",
      "Epoch: 79 \t Validation f: 0.66, acc: 0.07\n",
      "Epoch: 80 \t Training Loss: 1.367492\n",
      "Epoch: 80 \t Validation f: 0.67, acc: 0.06\n",
      "Epoch: 81 \t Training Loss: 1.790773\n",
      "Epoch: 81 \t Validation f: 0.66, acc: 0.07\n",
      "Epoch: 82 \t Training Loss: 1.752782\n",
      "Epoch: 82 \t Validation f: 0.66, acc: 0.07\n",
      "Epoch: 83 \t Training Loss: 1.839059\n",
      "Epoch: 83 \t Validation f: 0.67, acc: 0.07\n",
      "Epoch: 84 \t Training Loss: 2.025794\n",
      "Epoch: 84 \t Validation f: 0.67, acc: 0.07\n",
      "Epoch: 85 \t Training Loss: 2.742417\n",
      "Epoch: 85 \t Validation f: 0.66, acc: 0.06\n",
      "Epoch: 86 \t Training Loss: 3.753335\n",
      "Epoch: 86 \t Validation f: 0.65, acc: 0.06\n",
      "Epoch: 87 \t Training Loss: 7.746400\n",
      "Epoch: 87 \t Validation f: 0.64, acc: 0.07\n",
      "Epoch: 88 \t Training Loss: 16.807116\n",
      "Epoch: 88 \t Validation f: 0.62, acc: 0.04\n",
      "Epoch: 89 \t Training Loss: 34.139243\n",
      "Epoch: 89 \t Validation f: 0.60, acc: 0.05\n",
      "Epoch: 90 \t Training Loss: 39.916514\n",
      "Epoch: 90 \t Validation f: 0.60, acc: 0.06\n",
      "Epoch: 91 \t Training Loss: 37.191369\n",
      "Epoch: 91 \t Validation f: 0.60, acc: 0.04\n",
      "Epoch: 92 \t Training Loss: 37.564726\n",
      "Epoch: 92 \t Validation f: 0.59, acc: 0.05\n",
      "Epoch: 93 \t Training Loss: 34.318729\n",
      "Epoch: 93 \t Validation f: 0.61, acc: 0.06\n",
      "Epoch: 94 \t Training Loss: 25.149976\n",
      "Epoch: 94 \t Validation f: 0.62, acc: 0.06\n",
      "Epoch: 95 \t Training Loss: 19.998885\n",
      "Epoch: 95 \t Validation f: 0.63, acc: 0.06\n",
      "Epoch: 96 \t Training Loss: 16.193181\n",
      "Epoch: 96 \t Validation f: 0.62, acc: 0.05\n",
      "Epoch: 97 \t Training Loss: 13.273539\n",
      "Epoch: 97 \t Validation f: 0.63, acc: 0.07\n",
      "Epoch: 98 \t Training Loss: 12.435163\n",
      "Epoch: 98 \t Validation f: 0.63, acc: 0.06\n",
      "Epoch: 99 \t Training Loss: 11.863038\n",
      "Epoch: 99 \t Validation f: 0.63, acc: 0.07\n",
      "Epoch: 100 \t Training Loss: 9.050993\n",
      "Epoch: 100 \t Validation f: 0.64, acc: 0.07\n"
     ]
    }
   ],
   "source": [
    "def train(model, train_loader, val_loader, n_epochs):\n",
    "    \"\"\"\n",
    "    Train the model.\n",
    "    \n",
    "    Arguments:\n",
    "        model: the RNN model\n",
    "        train_loader: training dataloder\n",
    "        val_loader: validation dataloader\n",
    "        n_epochs: total number of epochs\n",
    "    \"\"\"\n",
    "\n",
    "    for epoch in range(n_epochs):\n",
    "        seq2seq.train()\n",
    "        train_loss = 0\n",
    "        for x, masks, y in train_loader:\n",
    "            optimizer.zero_grad()\n",
    "            x_hat = seq2seq(x, masks)\n",
    "            loss = criterion(x_hat, x)\n",
    "            loss = loss * masks.float().unsqueeze(-1)\n",
    "            loss = torch.mean(torch.sum(loss, dim=[1,2]))\n",
    "            loss.backward()\n",
    "            optimizer.step()\n",
    "            train_loss += loss.item()\n",
    "        train_loss = train_loss / len(train_loader)\n",
    "        print('Epoch: {} \\t Training Loss: {:.6f}'.format(epoch+1, train_loss))\n",
    "        f, acc = eval(model, val_loader)\n",
    "        print('Epoch: %d \\t Validation f: %.2f, acc: %.2f'%(epoch+1, f, acc))\n",
    "\n",
    "    \n",
    "# number of epochs to train the model\n",
    "n_epochs = 100\n",
    "\n",
    "train(seq2seq, train_loader, val_loader, n_epochs)"
   ]
  },
  {
   "cell_type": "markdown",
   "metadata": {},
   "source": [
    "## 5 Unsupervised patient clustering\n",
    "\n",
    "After training a seq2seq model, we can use the encoder to generate patient embeddings. These embeddings can be used for unsupervised tasks."
   ]
  },
  {
   "cell_type": "code",
   "execution_count": 27,
   "metadata": {},
   "outputs": [],
   "source": [
    "def get_embeddings(model, data_loader):\n",
    "    \"\"\"\n",
    "    Use trained encoder model to get patient embeddings.\n",
    "    \n",
    "    Arguments:\n",
    "        model: trained seq2seq model\n",
    "        data_loader: dataloder\n",
    "        \n",
    "    Return:\n",
    "        embeddings: numpy array that contains patient embeddings.\n",
    "        labels: numpy array that contains patient heart failure label.\n",
    "    \"\"\"\n",
    "    \n",
    "    seq2seq.eval()\n",
    "    embeddings = []\n",
    "    labels = []\n",
    "    for x, masks, y in data_loader:\n",
    "        cur_embd = seq2seq.encoder(x, masks)\n",
    "        embeddings += list(cur_embd.detach().numpy())\n",
    "        labels += list(y.numpy())\n",
    "        \n",
    "    return np.array(embeddings), np.array(labels)\n",
    "    \n",
    "embeddings, labels = get_embeddings(seq2seq, val_loader)"
   ]
  },
  {
   "cell_type": "markdown",
   "metadata": {},
   "source": [
    "Next we will use KMeans algorithm to cluster these embeddings"
   ]
  },
  {
   "cell_type": "code",
   "execution_count": 28,
   "metadata": {},
   "outputs": [
    {
     "name": "stdout",
     "output_type": "stream",
     "text": [
      "calinski harabaz score: 93.47618020698252\n"
     ]
    }
   ],
   "source": [
    "from sklearn.metrics import calinski_harabasz_score\n",
    "from sklearn.cluster import KMeans\n",
    "\n",
    "def get_clusters(embeddings):\n",
    "    \"\"\"\n",
    "    Arguments:\n",
    "        embeddings: obtained patient embeddings\n",
    "        \n",
    "    Return:\n",
    "        labels: K-means clustering labels    \n",
    "    \"\"\"\n",
    "\n",
    "    # Use K-means to generate patient clusters.\n",
    "    kmeans = KMeans(n_clusters=2)\n",
    "    kmeans = kmeans.fit(X=embeddings)\n",
    "    \n",
    "    # Use calinski harabaz score to evaluate clustering results\n",
    "    print(f\"calinski harabaz score: {calinski_harabasz_score(X=embeddings, labels=kmeans.labels_)}\")\n",
    "    return kmeans.labels_\n",
    "    \n",
    "cluster_labels = get_clusters(embeddings)"
   ]
  },
  {
   "cell_type": "markdown",
   "metadata": {},
   "source": [
    "Let us use T-SNE to visualize the embeddings and clustering results."
   ]
  },
  {
   "cell_type": "code",
   "execution_count": 30,
   "metadata": {},
   "outputs": [
    {
     "data": {
      "image/png": "[encoded data removed]",
      "text/plain": [
       "<Figure size 432x288 with 1 Axes>"
      ]
     },
     "metadata": {
      "needs_background": "light"
     },
     "output_type": "display_data"
    }
   ],
   "source": [
    "from sklearn import manifold\n",
    "import matplotlib.pyplot as plt\n",
    "\n",
    "tsne = manifold.TSNE(n_components=2, init='pca', random_state=42)\n",
    "tsne_embd = tsne.fit_transform(embeddings)\n",
    "\n",
    "plt.scatter(tsne_embd[:,0], tsne_embd[:,1], c=labels)\n",
    "plt.show()"
   ]
  },
  {
   "cell_type": "markdown",
   "metadata": {},
   "source": [
    "The cluster result is not really good due to the limited resources. We should try to use larger dataset."
   ]
  }
 ],
 "metadata": {
  "kernelspec": {
   "display_name": "Python 3 (ipykernel)",
   "language": "python",
   "name": "python3"
  },
  "language_info": {
   "codemirror_mode": {
    "name": "ipython",
    "version": 3
   },
   "file_extension": ".py",
   "mimetype": "text/x-python",
   "name": "python",
   "nbconvert_exporter": "python",
   "pygments_lexer": "ipython3",
   "version": "3.8.2"
  },
  "toc": {
   "base_numbering": 1,
   "nav_menu": {},
   "number_sections": false,
   "sideBar": true,
   "skip_h1_title": true,
   "title_cell": "Table of Contents",
   "title_sidebar": "Contents",
   "toc_cell": false,
   "toc_position": {
    "height": "calc(100% - 180px)",
    "left": "10px",
    "top": "150px",
    "width": "409.59375px"
   },
   "toc_section_display": true,
   "toc_window_display": true
  }
 },
 "nbformat": 4,
 "nbformat_minor": 4
}
